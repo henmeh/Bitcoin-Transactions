{
 "cells": [
  {
   "cell_type": "markdown",
   "metadata": {},
   "source": [
    "### Alice möchte Bob 10000 satoshis senden welche Bob anschließend wieder ausgibt. Bob gibt Alice dabei verschiedene Möglichkeiten wie die Satoshis für ihn gelocked werden.\n",
    "\n",
    "Die ersten Möglichkeit ist das Versenden der Satoshis an einen öffentlichen Schlüssel welcher durch einen von Bob kontrollierten privaten Schlüssel erzeugt wurde. Dieser Fall wird **P2PK-Transaktion** genannt."
   ]
  },
  {
   "cell_type": "code",
   "execution_count": 1,
   "metadata": {},
   "outputs": [],
   "source": [
    "#bitcoind -regtest -daemon -fallbackfee=0.0000025 -> startet bitcoin in regtest mode\n",
    "#bcr loadwallet alice (oder bcr createwallet alice)\n",
    "#bcr loadwallet bob (oder bcr createwallet bob)\n",
    "#bcr -rpcwallet=alice getnweaddress \"\" legacy -> gibt die addresse zur Vorbereitung von welcher dann die P2PK-Locking Transaktion ausgeht\n",
    "#bcr -rpcwallet=alice sendtoaddress <address> <amount in btc>\n",
    "#bcr -rpcwallet=alice generatetoaddress <amount of blocks> <address>\n",
    "from io import BytesIO\n",
    "\n",
    "from src.transaction import CTx, CTxIn, CTxOut\n",
    "from src.script import Script, p2pk_script\n",
    "from src.ecdsa import PrivateKey"
   ]
  },
  {
   "cell_type": "markdown",
   "metadata": {},
   "source": [
    "**1.** In der ersten Transaktion werden von Alice die 10000 Satoshis an den von Bob kontrollierten öffentlichen Schlüssel versendet. Um das notwendige Transaktionsformular ausfüllen zu können, benötigt Alice folgende Informationen. "
   ]
  },
  {
   "cell_type": "code",
   "execution_count": 3,
   "metadata": {},
   "outputs": [],
   "source": [
    "#Transaktionsinputdaten\n",
    "#bcr -rpcwallet=alice dumpprivkey <alice address> -> gibt den zu address gehörigen privaten Schlüssel in WIF\n",
    "alice_private_key_wif_format = \"cRzut5ygumUoZfztPwdjUq9n5ycqCkbShm8b7eSrWkudDWXesvQ2\"\n",
    "alice_private_key = PrivateKey.convert_wif_format(alice_private_key_wif_format)\n",
    "alice_private_key_int_format = alice_private_key.get_private_key_int()\n",
    "alice_public_key = alice_private_key.get_public_key()\n",
    "\n",
    "#bcr -rpcwallet=alice listunspent -> listet alle utxo's von alice auf\n",
    "#bcr -rpcwallet=alice gettransaction <tx_id> -> gibt das \"Überweisungsformular\" der Transaktion mit der angegebenen ID zurück.\n",
    "alice_previous_tx_id_to_spent = \"338ec01d36ddeebc9dc333c843afe9c954d758e3bc8c102bf7e0ba3cb70fbc2f\"\n",
    "alice_previous_tx_index_to_spent = 1\n",
    "alice_previous_script_pub_key_to_spent = \"76a91498e38c6956e6c320d2eee5a8d73502bd2abf134588ac\"\n",
    "\n",
    "#Transaktionsoutputdaten\n",
    "alice_amount_to_spent = 10000\n",
    "bob_public_key = PrivateKey(70391367530871559720919750735257129489246656383889830217409950893950252925507).get_public_key()"
   ]
  },
  {
   "cell_type": "markdown",
   "metadata": {},
   "source": [
    "**1.1** Nun kann Alice die Lockingtransaktion erzeugen. Um die Satoshis an Bob's öffentlichen Schlüssel zu senden, muss Alice im Output der Transaktion ein scriptPubKey der Form: <Bob's public Key> + CHECKSIG generieren."
   ]
  },
  {
   "cell_type": "code",
   "execution_count": 4,
   "metadata": {},
   "outputs": [
    {
     "name": "stdout",
     "output_type": "stream",
     "text": [
      "Alice unsignierte P2PK Lockingtransaktion: 01000000012fbc0fb73cbae0f72b108cbce358d754c9e9af43c833c39dbceedd361dc08e330100000000ffffffff011027000000000000232103982f610d344db57d441e594d4d4f5001fe1369081a42f8350b49be562e94dfb4acffffffff\n"
     ]
    }
   ],
   "source": [
    "transaction_input = CTxIn(bytes.fromhex(alice_previous_tx_id_to_spent), alice_previous_tx_index_to_spent, script_sig=Script())\n",
    "\n",
    "alice_script_pubkey = p2pk_script(bob_public_key.sec_format())\n",
    "transaction_output = CTxOut(alice_amount_to_spent, alice_script_pubkey)\n",
    "\n",
    "alice_locking_transaction = CTx(1, [transaction_input], [transaction_output], 0xffffffff, is_testnet=True, is_segwit=False)\n",
    "\n",
    "print(f\"Alice unsignierte P2PK Lockingtransaktion: {alice_locking_transaction.serialize_transaction().hex()}\")"
   ]
  },
  {
   "cell_type": "markdown",
   "metadata": {},
   "source": [
    "**1.1.1** Nun muss Alice die Lockingtransaktion noch signieren. D.h. sie muss nachweisen, dass sie aus der vorhergehenden Transaktion berechtigt ist die 10000 Satoshis auszugeben."
   ]
  },
  {
   "cell_type": "code",
   "execution_count": 6,
   "metadata": {},
   "outputs": [
    {
     "name": "stdout",
     "output_type": "stream",
     "text": [
      "Alice signierte P2PK Lockingtransaktion: 01000000012fbc0fb73cbae0f72b108cbce358d754c9e9af43c833c39dbceedd361dc08e33010000006b483045022100a13b88c11ce1a923e4fa92c92d7ea7d1ae80ceab5c5e256896f5161dbcdc6a2b022030bb70a3b551db24cded3be517cce086f23ebe93d5b6e25d90d614c28350542401210333fe3326673ccd0eb62eb24b18115b575474dcd58cf7c9804b601f1afe36ecf8ffffffff011027000000000000232103982f610d344db57d441e594d4d4f5001fe1369081a42f8350b49be562e94dfb4acffffffff\n"
     ]
    }
   ],
   "source": [
    "alice_script_sig = Script().parse_script(BytesIO(bytes.fromhex(f\"{hex(len(alice_previous_script_pub_key_to_spent)//2)[2:]}{alice_previous_script_pub_key_to_spent}\")))\n",
    "alice_locking_transaction.sign_transaction(0, alice_private_key_int_format, alice_script_sig)\n",
    "\n",
    "#bcr -rpcwallet=alice testmempoolaccept '[\"tx\"]' -> prüft ob die Transaktion alle Checks für die Aufnhame in den Mempool besteht\n",
    "#bcr -rpcwallet=alice decoderawtransaction <tx> -> decodiert die serilaisierte Transaktion ins \"Überweisungsformular\"\n",
    "#bcr -rpcwallet=alice sendrawtransaction <tx> -> übermittelt schließlich die Transaktion im Netzwerk so dass sie von minern für einen block aus dem mempool aufgenommen werden kann\n",
    "\n",
    "print(f\"Alice signierte P2PK Lockingtransaktion: {alice_locking_transaction.serialize_transaction().hex()}\")"
   ]
  },
  {
   "cell_type": "markdown",
   "metadata": {},
   "source": [
    "**2.** Nun möchte Bob die an seinen öffentlichen Schlüssel gesendeten Satoshis weiter versenden. Dazu muss Bob im Inputfeld (in dem auf den eben von Alice erzeugten Output referenziert wird), zum Beweis das er  berechtigt ist aen Output auszugeben lediglich eine Signatur mit Bob's privatem Schlüssel stehen. Damit Bob das notwendige Transaktionsformular ausfüllen kann benötigt er folgende Informationen."
   ]
  },
  {
   "cell_type": "code",
   "execution_count": 7,
   "metadata": {},
   "outputs": [],
   "source": [
    "#Transaktionsinputdaten\n",
    "#bcr -rpcwallet=bob dumpprivkey <bob address>\n",
    "bob_private_key_wif_format = \"cSoDYWXxTwTbnWBpTsgWiaJbD4ZTLpJ51nHppZRFKtCK418ERJEo\"\n",
    "bob_private_key = PrivateKey.convert_wif_format(bob_private_key_wif_format)\n",
    "bob_private_key_int_format = bob_private_key.get_private_key_int()\n",
    "bob_public_key = bob_private_key.get_public_key()\n",
    "\n",
    "#bcr -rpcwallet=bob listunspent\n",
    "bob_previous_tx_id_to_spent = 'd0cd7941815b54a4196df5a44e4428a520bf672522f7a1bbd61b9ba22e66a8cc'\n",
    "bob_previous_tx_index_to_spent = 0\n",
    "bob_previous_script_pub_key_to_spent = \"2103982f610d344db57d441e594d4d4f5001fe1369081a42f8350b49be562e94dfb4ac\"\n",
    "\n",
    "#Transaktionsoutputdaten\n",
    "bob_amount_to_spent = 9000\n",
    "#bob's reciever address is alice public key"
   ]
  },
  {
   "cell_type": "markdown",
   "metadata": {},
   "source": [
    "**2.1** Nun kann Bob die Transaktion erstellen um die eben von Alice erhaltenen Satoshis weiter zu versenden."
   ]
  },
  {
   "cell_type": "code",
   "execution_count": 8,
   "metadata": {},
   "outputs": [
    {
     "name": "stdout",
     "output_type": "stream",
     "text": [
      "Bob unsignierte P2PK Spendingtransaktion: 0100000001cca8662ea29b1bd6bba1f7222567bf20a528444ea4f56d19a4545b814179cdd00000000000ffffffff01282300000000000023210333fe3326673ccd0eb62eb24b18115b575474dcd58cf7c9804b601f1afe36ecf8acffffffff\n"
     ]
    }
   ],
   "source": [
    "transaction_input = CTxIn(bytes.fromhex(bob_previous_tx_id_to_spent), bob_previous_tx_index_to_spent, script_sig=Script())\n",
    "\n",
    "script_pubkey = p2pk_script(alice_public_key.sec_format())\n",
    "transaction_output = CTxOut(bob_amount_to_spent, script_pubkey)\n",
    "\n",
    "bob_spending_transaction = CTx(1, [transaction_input], [transaction_output], 0xffffffff, is_testnet=True, is_segwit=False)\n",
    "\n",
    "print(f\"Bob unsignierte P2PK Spendingtransaktion: {bob_spending_transaction.serialize_transaction().hex()}\")\n"
   ]
  },
  {
   "cell_type": "markdown",
   "metadata": {},
   "source": [
    "**2.2** Nun kann Bob diese Transaktion mit seinem privaten Schlüssle signieren und versenden."
   ]
  },
  {
   "cell_type": "code",
   "execution_count": 9,
   "metadata": {},
   "outputs": [
    {
     "name": "stdout",
     "output_type": "stream",
     "text": [
      "Bob signierte P2PK Spendingtransaktion: 0100000001cca8662ea29b1bd6bba1f7222567bf20a528444ea4f56d19a4545b814179cdd000000000494830450221009429f5119f1fce8a0b728eeddca4949ddeeed9ac2f12ff643de7b44b9b3bd1e602206f660ee4e655e51a017e38a9c53bb42f1a4d1df0d7e5314e5c0b529d6d5e6abb01ffffffff01282300000000000023210333fe3326673ccd0eb62eb24b18115b575474dcd58cf7c9804b601f1afe36ecf8acffffffff\n"
     ]
    }
   ],
   "source": [
    "bob_script_sig = Script().parse_script(BytesIO(bytes.fromhex(f\"{hex(len(bob_previous_script_pub_key_to_spent)//2)[2:]}{bob_previous_script_pub_key_to_spent}\")))\n",
    "bob_spending_transaction.sign_transaction(0, bob_private_key_int_format, bob_script_sig)\n",
    "\n",
    "#bcr -rpcwallet=bob testmempoolaccept '[\"tx\"]'\n",
    "#bcr -rpcwallet=bob decodetransaction <tx>\n",
    "#bcr -rpcwallet=bob sendrawtransaction <tx>\n",
    "\n",
    "print(f\"Bob signierte P2PK Spendingtransaktion: {bob_spending_transaction.serialize_transaction().hex()}\")"
   ]
  },
  {
   "cell_type": "code",
   "execution_count": null,
   "metadata": {},
   "outputs": [],
   "source": []
  }
 ],
 "metadata": {
  "kernelspec": {
   "display_name": "Python 3",
   "language": "python",
   "name": "python3"
  },
  "language_info": {
   "codemirror_mode": {
    "name": "ipython",
    "version": 3
   },
   "file_extension": ".py",
   "mimetype": "text/x-python",
   "name": "python",
   "nbconvert_exporter": "python",
   "pygments_lexer": "ipython3",
   "version": "3.10.12"
  }
 },
 "nbformat": 4,
 "nbformat_minor": 2
}
