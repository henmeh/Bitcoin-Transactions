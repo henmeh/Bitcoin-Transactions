{
 "cells": [
  {
   "cell_type": "markdown",
   "metadata": {},
   "source": [
    "### Alice möchte Bob 10000 satoshis senden welche Bob anschließend wieder ausgibt. Bob gibt Alice dabei verschiedene Möglichkeiten wie die Satoshis für ihn gelocked werden.\n",
    "\n",
    "Die zweite Möglichkeit ist das Versenden der Satoshis an den Hash eines öffentlichen Schlüssels welcher durch einen von Bob kontrollierten privaten Schlüssel erzeugt wurde. Dieser Fall wird **P2PKH-Transaktion** genannt."
   ]
  },
  {
   "cell_type": "code",
   "execution_count": null,
   "metadata": {},
   "outputs": [],
   "source": [
    "#bitcoind -regtest -daemon -fallbackfee=0.0000025 -> startet bitcoin in regtest mode\n",
    "#bcr loadwallet alice (oder bcr createwallet alice)\n",
    "#bcr loadwallet bob (oder bcr createwallet bob)\n",
    "#bcr -rpcwallet=alice getnweaddress \"\" legacy -> gibt die addresse zur Vorbereitung von welcher dann die P2PK-Locking Transaktion ausgeht\n",
    "#bcr -rpcwallet=alice sendtoaddress <address> <amount in btc>\n",
    "#bcr -rpcwallet=alice generatetoaddress <amount of blocks> <address>\n",
    "from io import BytesIO\n",
    "\n",
    "from src.transaction import CTx, CTxIn, CTxOut\n",
    "from src.script import Script, p2pkh_script\n",
    "from src.ecdsa import PrivateKey\n",
    "from src.crypto import hash160"
   ]
  },
  {
   "cell_type": "markdown",
   "metadata": {},
   "source": [
    "**1.** In der ersten Transaktion werden von Alice die 10000 Satoshis an den Hash des von Bob kontrollierten öffentlichen Schlüssel versendet. Um das notwendige Transaktionsformular ausfüllen zu können, benötigt Alice folgende Informationen. "
   ]
  },
  {
   "cell_type": "code",
   "execution_count": null,
   "metadata": {},
   "outputs": [],
   "source": [
    "#Transaktionsinputdaten\n",
    "#bcr -rpcwallet=alice dumpprivkey <alice address> -> gibt den zu address gehörigen privaten Schlüssel in WIF\n",
    "alice_private_key_wif_format = \"cR8xne7HpYGzTphnhbvuJa6HPF3JnAKmqhHXSW4WFqaNVcTAB9e4\"\n",
    "alice_private_key = PrivateKey.convert_wif_format(alice_private_key_wif_format)\n",
    "alice_private_key_int_format = alice_private_key.get_private_key_int()\n",
    "alice_public_key = alice_private_key.get_public_key()\n",
    "\n",
    "#bcr -rpcwallet=alice listunspent -> listet alle utxo's von alice auf\n",
    "#bcr -rpcwallet=alice gettransaction <tx_id> -> gibt das \"Überweisungsformular\" der Transaktion mit der angegebenen ID zurück.\n",
    "alice_previous_tx_id_to_spent = \"63eb2c763f839e6256330ed75486ee394a1f8bae619417f0e560b98060876e65\"\n",
    "alice_previous_tx_index_to_spent = 1\n",
    "alice_previous_script_pub_key_to_spent = \"76a914d200acbfd8c7776a35bd6c03bdc40c25aa5e18bc88ac\"\n",
    "\n",
    "#Transaktionsoutputdaten\n",
    "alice_amount_to_spent = 10000\n",
    "bob_public_key = PrivateKey(70391367530871559720919750735257129489246656383889830217409950893950252925507).get_public_key()"
   ]
  },
  {
   "cell_type": "markdown",
   "metadata": {},
   "source": [
    "**1.1** Nun kann Alice die Lockingtransaktion erzeugen. Um die Satoshis an den Hash von Bob's öffentlichen Schlüssel zu senden, muss Alice im Output der Transaktion ein scriptPubKey der Form: OP_DUP OP_HASH160 <Bob's public Key> + OP_EQUALVERIFY OP_CHECKSIG generieren."
   ]
  },
  {
   "cell_type": "code",
   "execution_count": null,
   "metadata": {},
   "outputs": [],
   "source": [
    "transaction_input = CTxIn(bytes.fromhex(alice_previous_tx_id_to_spent), alice_previous_tx_index_to_spent, script_sig=Script())\n",
    "\n",
    "alice_script_pubkey = p2pkh_script(hash160(bob_public_key.sec_format()))\n",
    "transaction_output = CTxOut(alice_amount_to_spent, alice_script_pubkey)\n",
    "\n",
    "alice_locking_transaction = CTx(1, [transaction_input], [transaction_output], 0xffffffff, is_testnet=True, is_segwit=False)\n",
    "\n",
    "print(f\"Alice unsignierte P2PK Lockingtransaktion: {alice_locking_transaction.serialize_transaction().hex()}\")"
   ]
  },
  {
   "cell_type": "markdown",
   "metadata": {},
   "source": [
    "**1.1.1** Nun muss Alice die Lockingtransaktion noch signieren. D.h. sie muss nachweisen, dass sie aus der vorhergehenden Transaktion berechtigt ist die 10000 Satoshis auszugeben."
   ]
  },
  {
   "cell_type": "code",
   "execution_count": null,
   "metadata": {},
   "outputs": [],
   "source": [
    "alice_script_sig = Script().parse_script(BytesIO(bytes.fromhex(f\"{hex(len(alice_previous_script_pub_key_to_spent)//2)[2:]}{alice_previous_script_pub_key_to_spent}\")))\n",
    "alice_locking_transaction.sign_transaction(0, alice_private_key_int_format, alice_script_sig)\n",
    "\n",
    "#bcr -rpcwallet=alice testmempoolaccept '[\"tx\"]' -> prüft ob die Transaktion alle Checks für die Aufnhame in den Mempool besteht\n",
    "#bcr -rpcwallet=alice decoderawtransaction <tx> -> decodiert die serilaisierte Transaktion ins \"Überweisungsformular\"\n",
    "#bcr -rpcwallet=alice sendrawtransaction <tx> -> übermittelt schließlich die Transaktion im Netzwerk so dass sie von minern für einen block aus dem mempool aufgenommen werden kann\n",
    "\n",
    "print(f\"Alice signierte P2PK Lockingtransaktion: {alice_locking_transaction.serialize_transaction().hex()}\")"
   ]
  },
  {
   "cell_type": "markdown",
   "metadata": {},
   "source": [
    "**2.** Nun möchte Bob die an den Hash seines öffentlichen Schlüssels gesendeten Satoshis weiter versenden. Dazu muss Bob im Inputfeld (in dem auf den eben von Alice erzeugten Output referenziert wird), zum Beweis das er berechtigt ist den Output auszugeben eine Signatur und seinen öffentlichen Schlüssel angeben. Damit Bob das notwendige Transaktionsformular ausfüllen kann benötigt er folgende Informationen."
   ]
  },
  {
   "cell_type": "code",
   "execution_count": null,
   "metadata": {},
   "outputs": [],
   "source": [
    "#Transaktionsinputdaten\n",
    "#bcr -rpcwallet=bob dumpprivkey <bob address>\n",
    "bob_private_key_wif_format = \"cSoDYWXxTwTbnWBpTsgWiaJbD4ZTLpJ51nHppZRFKtCK418ERJEo\"\n",
    "bob_private_key = PrivateKey.convert_wif_format(bob_private_key_wif_format)\n",
    "bob_private_key_int_format = bob_private_key.get_private_key_int()\n",
    "bob_public_key = bob_private_key.get_public_key()\n",
    "\n",
    "#bcr -rpcwallet=bob listunspent\n",
    "bob_previous_tx_id_to_spent = 'a486a146b6764746d28080b824a49980e662fa1505aa0b585d7383211090931b'\n",
    "bob_previous_tx_index_to_spent = 0\n",
    "bob_previous_script_pub_key_to_spent = \"76a91498aa473bc59b15b00c1f288e1c8d5a473533833788ac\"\n",
    "\n",
    "#Transaktionsoutputdaten\n",
    "bob_amount_to_spent = 9000\n",
    "#bob's reciever address is alice public key"
   ]
  },
  {
   "cell_type": "markdown",
   "metadata": {},
   "source": [
    "**2.1** Nun kann Bob die Transaktion erstellen um die eben von Alice erhaltenen Satoshis weiter zu versenden."
   ]
  },
  {
   "cell_type": "code",
   "execution_count": null,
   "metadata": {},
   "outputs": [],
   "source": [
    "transaction_input = CTxIn(bytes.fromhex(bob_previous_tx_id_to_spent), bob_previous_tx_index_to_spent, script_sig=Script())\n",
    "\n",
    "script_pubkey = p2pkh_script(hash160(alice_public_key.sec_format()))\n",
    "transaction_output = CTxOut(bob_amount_to_spent, script_pubkey)\n",
    "\n",
    "bob_spending_transaction = CTx(1, [transaction_input], [transaction_output], 0xffffffff, is_testnet=True, is_segwit=False)\n",
    "\n",
    "print(f\"Bob unsignierte P2PKH Spendingtransaktion: {bob_spending_transaction.serialize_transaction().hex()}\")"
   ]
  },
  {
   "cell_type": "markdown",
   "metadata": {},
   "source": [
    "**2.2** Nun kann Bob diese Transaktion mit seinem privaten Schlüssle signieren und versenden."
   ]
  },
  {
   "cell_type": "code",
   "execution_count": null,
   "metadata": {},
   "outputs": [],
   "source": [
    "bob_script_sig = Script().parse_script(BytesIO(bytes.fromhex(f\"{hex(len(bob_previous_script_pub_key_to_spent)//2)[2:]}{bob_previous_script_pub_key_to_spent}\")))\n",
    "bob_spending_transaction.sign_transaction(0, bob_private_key_int_format, bob_script_sig)\n",
    "\n",
    "#bcr -rpcwallet=bob testmempoolaccept '[\"tx\"]'\n",
    "#bcr -rpcwallet=bob decodetransaction <tx>\n",
    "#bcr -rpcwallet=bob sendrawtransaction <tx>\n",
    "\n",
    "print(f\"Bob signierte P2PKH Spendingtransaktion: {bob_spending_transaction.serialize_transaction().hex()}\")"
   ]
  }
 ],
 "metadata": {
  "kernelspec": {
   "display_name": "Python 3",
   "language": "python",
   "name": "python3"
  },
  "language_info": {
   "codemirror_mode": {
    "name": "ipython",
    "version": 3
   },
   "file_extension": ".py",
   "mimetype": "text/x-python",
   "name": "python",
   "nbconvert_exporter": "python",
   "pygments_lexer": "ipython3",
   "version": "3.10.12"
  }
 },
 "nbformat": 4,
 "nbformat_minor": 2
}
