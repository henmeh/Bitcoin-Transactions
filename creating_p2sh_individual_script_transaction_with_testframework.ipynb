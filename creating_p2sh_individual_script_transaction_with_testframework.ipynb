{
 "cells": [
  {
   "cell_type": "markdown",
   "metadata": {},
   "source": [
    "### Bob möchte nun die Satoshis an ein spezielles von ihm erstelltes Skript binden. \n",
    "Das Skript ist der Satz: **\"We make it visible\"**. Auch dazu eignet sich die **P2SH** Transaktion."
   ]
  },
  {
   "cell_type": "markdown",
   "metadata": {},
   "source": [
    "### Aufgrund der Tatsache, dass wir mit einer \"leeren\" Blockchain beginnen, müssen zunächst ein paar Vorarbeiten geleistet werden.\n",
    "    1. Verbindung zur Blockchain in regtest Modus aufbauen\n",
    "    2. Anlegen zweier Nodes und Wallets (Alice und Bob)\n",
    "    3. Mining 101 Blöcke damit Alice Wallet Coins enthält\n",
    "    4. Funding der Transaktion welche später als Input für die P2SH-Locking Transaktion genutzt wird.\n",
    "    5. Bob erzeugt das von ihm gewüsnchte Locking Skript"
   ]
  },
  {
   "cell_type": "code",
   "execution_count": 1,
   "metadata": {},
   "outputs": [],
   "source": [
    "import sys\n",
    "sys.path.insert(0, \"/media/henning/Volume/Programming/Bitcoin/bitcoin/test/functional\")\n",
    "from test_framework.test_shell import TestShell\n",
    "from io import BytesIO\n",
    "from decimal import Decimal\n",
    "\n",
    "from src.transaction import CTx, CTxIn, CTxOut\n",
    "from src.script import Script, p2sh_script, p2pk_script\n",
    "from src.ecdsa import PrivateKey\n",
    "from src.crypto import hash160\n",
    "from src.helper import string_to_hex"
   ]
  },
  {
   "cell_type": "code",
   "execution_count": 2,
   "metadata": {},
   "outputs": [
    {
     "name": "stdout",
     "output_type": "stream",
     "text": [
      "2024-03-03T11:53:59.780000Z TestFramework (INFO): PRNG seed is: 1856772094372594502\n",
      "2024-03-03T11:53:59.780000Z TestFramework (INFO): Initializing test directory /tmp/bitcoin_func_test_325nw4jk\n"
     ]
    }
   ],
   "source": [
    "test = TestShell().setup(num_nodes=2, setup_clean_chain=True)\n",
    "alice = test.nodes[0]\n",
    "bob = test.nodes[1]\n",
    "\n",
    "alice.createwallet(\"alice\", descriptors=False)\n",
    "bob.createwallet(\"bob\", descriptors=False)\n",
    "\n",
    "alice_address_0 = alice.getnewaddress(\"\", \"legacy\")\n",
    "test.generatetoaddress(alice, 101, alice_address_0)\n",
    "\n",
    "alice_address_1 = alice.getnewaddress(\"\", \"legacy\")\n",
    "alice_private_key_wif_format = alice.dumpprivkey(alice_address_1)\n",
    "alice_private_key = PrivateKey.convert_wif_format(alice_private_key_wif_format)\n",
    "alice_private_key_int_format = alice_private_key.get_private_key_int()\n",
    "alice_public_key = alice_private_key.get_public_key()\n",
    "\n",
    "alice_p2sh_funding_tx = alice.sendtoaddress(alice_address_1, 0.00011)\n",
    "alice_p2sh_funding_tx_parsed = alice.decoderawtransaction(alice.gettransaction(alice_p2sh_funding_tx)[\"hex\"])\n",
    "test.generatetoaddress(alice, 1, alice_address_0)\n",
    "\n",
    "bob_secret = \"We make it visible\"\n",
    "bob_secret_hex = string_to_hex(bob_secret)\n",
    "bob_original_script = Script([bytes.fromhex(bob_secret_hex), 0x87])\n",
    "bob_original_script_hex = bob_original_script.serialize_script().hex()[2:]  \n",
    "bob_original_script_hash160 = hash160(bytes.fromhex(bob_original_script_hex))"
   ]
  },
  {
   "cell_type": "markdown",
   "metadata": {},
   "source": [
    "**1.1** In der ersten Transaktion werden von Alice die 10000 Satoshis an das P2SH Script von Bob versendet. Um das notwendige Transaktionsformular ausfüllen zu können, benötigt Alice folgende Informationen."
   ]
  },
  {
   "cell_type": "code",
   "execution_count": 3,
   "metadata": {},
   "outputs": [],
   "source": [
    "alice_previous_tx_id_to_spent = alice_p2sh_funding_tx_parsed[\"txid\"]\n",
    "\n",
    "for tx_out in alice_p2sh_funding_tx_parsed[\"vout\"]:\n",
    "    if tx_out[\"value\"] == Decimal(\"0.00011000\"):\n",
    "        alice_previous_tx_index_to_spent = tx_out[\"n\"]\n",
    "        alice_previous_script_pub_key_to_spent = tx_out[\"scriptPubKey\"][\"hex\"]\n",
    "\n",
    "#Transaktionsoutputdaten\n",
    "alice_amount_to_spent = 10000"
   ]
  },
  {
   "cell_type": "markdown",
   "metadata": {},
   "source": [
    "**1.2** Nun kann Alice die Lockingtransaktion erzeugen. Um die Satoshis an Bob's Skript zu senden, muss Alice im Output der Transaktion ein scriptPubKey der Form: OP_HASH160 + <script_hash> + OP_EQUAL generieren."
   ]
  },
  {
   "cell_type": "code",
   "execution_count": 4,
   "metadata": {},
   "outputs": [
    {
     "name": "stdout",
     "output_type": "stream",
     "text": [
      "Alice unsignierte P2SH Lockingtransaktion: 010000000178f55195cbe36202914be544d6f34b64c4ba41fa1ec81a75208cbc65d0b9045b0000000000ffffffff01102700000000000017a914c7ccae441a968c81e8a49f92260473da4cd99d5587ffffffff\n"
     ]
    }
   ],
   "source": [
    "transaction_input = CTxIn(bytes.fromhex(alice_previous_tx_id_to_spent), alice_previous_tx_index_to_spent, script_sig=Script())\n",
    "\n",
    "alice_script_pubkey = p2sh_script(bob_original_script_hash160)\n",
    "transaction_output = CTxOut(alice_amount_to_spent, alice_script_pubkey)\n",
    "\n",
    "alice_locking_transaction = CTx(1, [transaction_input], [transaction_output], 0xffffffff, is_testnet=True, is_segwit=False)\n",
    "\n",
    "print(f\"Alice unsignierte P2SH Lockingtransaktion: {alice_locking_transaction.serialize_transaction().hex()}\")"
   ]
  },
  {
   "cell_type": "markdown",
   "metadata": {},
   "source": [
    "**1.3** Nun muss Alice die Lockingtransaktion noch signieren. D.h. sie muss nachweisen, dass sie aus der vorhergehenden Transaktion berechtigt ist die 10000 Satoshis auszugeben."
   ]
  },
  {
   "cell_type": "code",
   "execution_count": 5,
   "metadata": {},
   "outputs": [
    {
     "name": "stdout",
     "output_type": "stream",
     "text": [
      "Alice signierte P2SH Lockingtransaktion: 010000000178f55195cbe36202914be544d6f34b64c4ba41fa1ec81a75208cbc65d0b9045b000000006a473044022058b009b617f0a9638162a934aad952bdaaf2cfdb55773896405908335648d6eb0220760c6daacee9dbe48d8dcca6a1f6b7facc541bba5885273333fa8ef6cd4dc15b012102a2448697bb52f8a21476af38de1ae9b0d7de59f83974c33a8e1a1b5bd5d8e355ffffffff01102700000000000017a914c7ccae441a968c81e8a49f92260473da4cd99d5587ffffffff\n",
      "25c2e0e6fb86f185675a20f8fd3a3de8504aaf48192940a7af58329312f47fad\n"
     ]
    }
   ],
   "source": [
    "alice_script_sig = Script().parse_script(BytesIO(bytes.fromhex(f\"{hex(len(alice_previous_script_pub_key_to_spent)//2)[2:]}{alice_previous_script_pub_key_to_spent}\")))\n",
    "alice_locking_transaction.sign_transaction(0, [alice_private_key_int_format], alice_script_sig)\n",
    "\n",
    "print(f\"Alice signierte P2SH Lockingtransaktion: {alice_locking_transaction.serialize_transaction().hex()}\")\n",
    "\n",
    "alice_p2sh_locking_tx = alice.sendrawtransaction(alice_locking_transaction.serialize_transaction().hex())\n",
    "test.generatetoaddress(alice, 1, alice_address_0)"
   ]
  },
  {
   "cell_type": "markdown",
   "metadata": {},
   "source": [
    "**2.** Nun möchte Bob die an sein Skript gebundenen Satoshis wieder ausgeben. In dem Fall muss er **keine** Signatur oder der gleichen erzeugen. Zum Beweis das er berechtigt ist die Funds auszugeben muss er im ScriptSig Feld des Inputs sein Secret und das Originalskript vorlegen."
   ]
  },
  {
   "cell_type": "code",
   "execution_count": 6,
   "metadata": {},
   "outputs": [],
   "source": [
    "alice_p2sh_locking_tx_parsed = alice.decoderawtransaction(alice.gettransaction(alice_p2sh_locking_tx)[\"hex\"])\n",
    "\n",
    "bob_previous_tx_id_to_spent = alice_p2sh_locking_tx_parsed[\"txid\"]\n",
    "\n",
    "for tx_out in alice_p2sh_locking_tx_parsed[\"vout\"]:\n",
    "    if tx_out[\"value\"] == Decimal(\"0.00010000\"):\n",
    "        bob_previous_tx_index_to_spent = tx_out[\"n\"]\n",
    "        bob_previous_script_pub_key_to_spent = tx_out[\"scriptPubKey\"][\"hex\"]\n",
    "\n",
    "#Transaktionsoutputdaten\n",
    "bob_amount_to_spent = 9000\n",
    "#bob's reciever address is alice public key"
   ]
  },
  {
   "cell_type": "markdown",
   "metadata": {},
   "source": [
    "**2.1** Nun kann Bob die Transaktion erstellen um die eben von Alice erhaltenen Satoshis weiter zu versenden."
   ]
  },
  {
   "cell_type": "code",
   "execution_count": 7,
   "metadata": {},
   "outputs": [
    {
     "name": "stdout",
     "output_type": "stream",
     "text": [
      "Bob 'signierte' P2SH Spendingtransaktion: 0100000001ad7ff412933258afa740291948af4a50e83d3afdf8205a6785f186fbe6e0c2250000000028125765206d616b652069742076697369626c6514125765206d616b652069742076697369626c6587ffffffff012823000000000000232102a2448697bb52f8a21476af38de1ae9b0d7de59f83974c33a8e1a1b5bd5d8e355acffffffff\n",
      "2024-03-03T11:54:00.612000Z TestFramework (INFO): Stopping nodes\n",
      "2024-03-03T11:54:00.715000Z TestFramework (INFO): Cleaning up /tmp/bitcoin_func_test_325nw4jk on exit\n",
      "2024-03-03T11:54:00.715000Z TestFramework (INFO): Tests successful\n"
     ]
    }
   ],
   "source": [
    "script_sig = Script([bytes.fromhex(bob_secret_hex), bytes.fromhex(bob_original_script_hex)])\n",
    "transaction_input = CTxIn(bytes.fromhex(bob_previous_tx_id_to_spent), bob_previous_tx_index_to_spent, script_sig=script_sig)\n",
    "\n",
    "script_pubkey = p2pk_script(alice_public_key.sec_format())\n",
    "transaction_output = CTxOut(bob_amount_to_spent, script_pubkey)\n",
    "\n",
    "bob_spending_transaction = CTx(1, [transaction_input], [transaction_output], 0xffffffff, is_testnet=True, is_segwit=False)\n",
    "\n",
    "print(f\"Bob 'signierte' P2SH Spendingtransaktion: {bob_spending_transaction.serialize_transaction().hex()}\")\n",
    "\n",
    "TestShell().shutdown()"
   ]
  }
 ],
 "metadata": {
  "kernelspec": {
   "display_name": "Python 3",
   "language": "python",
   "name": "python3"
  },
  "language_info": {
   "codemirror_mode": {
    "name": "ipython",
    "version": 3
   },
   "file_extension": ".py",
   "mimetype": "text/x-python",
   "name": "python",
   "nbconvert_exporter": "python",
   "pygments_lexer": "ipython3",
   "version": "3.10.12"
  }
 },
 "nbformat": 4,
 "nbformat_minor": 2
}
