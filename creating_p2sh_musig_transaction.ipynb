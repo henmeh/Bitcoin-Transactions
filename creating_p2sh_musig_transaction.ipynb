{
 "cells": [
  {
   "cell_type": "markdown",
   "metadata": {},
   "source": [
    "### Bob hat einen Freund Namens Charlie. Bob möchte das die Coins welche er von Alice geschickt bekommt NUR ausgegeben werden können wenn Bob und Charlie die Transaktion mit ihren jeweils eigenen privaten Schlüsseln signieren. Alice muss daher die Coins nicht an den öffentlichen Schlüssel von Bob schicken sondern an ein Skript welches die beiden öffentlichen Schlüssel von Bob und Charlie enthält. Diese Art der Transaktion haben wir bereits als **P2MS** oder **Bare Multisig** kennengelernt. P2MS hat jedoch zwei entscheidenden Nachteile.\n",
    "    1. Je mehr mögliche öffentliche Schlüssel für MultiSig genutzt werden desto länger wird der ScriptPubKey der Lockingtransaktion und damit wird auch die Transaktion selbst immer größere und teurer.\n",
    "    2. Die Kosten für die extrem große Lockingtransaktion muss der Sender bezahlen. Das ist aber ökonomisch unfair. Wieso soll der Sender den Preis dafür zahlen, dass der Empfänger einen aufwendigeren Mechanismus zur Ausgabe der Coins bekommt.\n",
    "Die Lösung beider Probleme besteht darin die Coins an den Hash eines Skripts zu schicken. Der Hash ist immer gleich lang. Daher ändert sich für den Sender nicht die Transaktionsgröße je mehr öffentliche SChlüssel dazu kommen. Das Skript und damit auch die größere Datenmenge wird erst beim Verwenden der Coins veröffentlicht und muss daher vom Eigentümer der MultiSig-Transaktion bezahlt werden.\n",
    "Diese Art der Transaktion wird als **P2SH** bezeichnet. "
   ]
  },
  {
   "cell_type": "code",
   "execution_count": null,
   "metadata": {},
   "outputs": [],
   "source": [
    "#bitcoind -regtest -daemon -fallbackfee=0.0000025 -> startet bitcoin in regtest mode\n",
    "#bcr loadwallet alice (oder bcr createwallet alice)\n",
    "#bcr loadwallet bob (oder bcr createwallet bob)\n",
    "#bcr loadwallet charlie (oder bcr createwallet charlie)\n",
    "#bcr -rpcwallet=alice getnweaddress \"\" legacy -> gibt die addresse zur Vorbereitung von welcher dann die P2SH-Locking Transaktion ausgeht\n",
    "#bcr -rpcwallet=alice sendtoaddress <address> <amount in btc>\n",
    "#bcr -rpcwallet=alice generatetoaddress <amount of blocks> <address>\n",
    "from io import BytesIO\n",
    "\n",
    "from src.transaction import CTx, CTxIn, CTxOut\n",
    "from src.script import Script, p2pk_script, p2ms_script, p2sh_script\n",
    "from src.ecdsa import PrivateKey\n",
    "from src.crypto import hash160"
   ]
  },
  {
   "cell_type": "markdown",
   "metadata": {},
   "source": [
    "**1.** Zunächst müssen Bob und Charlie das von ihnen gewünschte Script erzeugen."
   ]
  },
  {
   "cell_type": "code",
   "execution_count": null,
   "metadata": {},
   "outputs": [],
   "source": [
    "bob_private_key_wif_format = \"cRmJMCZ5ShFBKaR4wKmoC7NJazFFK4ibwVVpjxa9s3ZMaJyMiTd9\"\n",
    "bob_private_key = PrivateKey.convert_wif_format(bob_private_key_wif_format)\n",
    "bob_private_key_int_format = bob_private_key.get_private_key_int()\n",
    "bob_public_key = bob_private_key.get_public_key()\n",
    "\n",
    "charlie_private_key_wif_format = \"cVJuiR5EMMNfzvdLQw5nGJFmDQ7TW1QsXx2NYQJWMF7zve17GHNr\"\n",
    "charlie_private_key = PrivateKey.convert_wif_format(charlie_private_key_wif_format)\n",
    "charlie_private_key_int_format = charlie_private_key.get_private_key_int()\n",
    "charlie_public_key = charlie_private_key.get_public_key()\n",
    "\n",
    "bob_and_charlie_skript = p2ms_script([bob_public_key.sec_format(), charlie_public_key.sec_format()], 2, 2)\n",
    "bob_and_charlie_skript_hash160 = hash160(bytes.fromhex(bob_and_charlie_skript.serialize_script().hex()[2:]))"
   ]
  },
  {
   "cell_type": "markdown",
   "metadata": {},
   "source": [
    "**1.1** In der ersten Transaktion werden von Alice die 10000 Satoshis an den von Bob kontrollierten öffentlichen Schlüssel versendet. Um das notwendige Transaktionsformular ausfüllen zu können, benötigt Alice folgende Informationen. "
   ]
  },
  {
   "cell_type": "code",
   "execution_count": null,
   "metadata": {},
   "outputs": [],
   "source": [
    "#Transaktionsinputdaten\n",
    "#bcr -rpcwallet=alice dumpprivkey <alice address> -> gibt den zu address gehörigen privaten Schlüssel in WIF\n",
    "alice_private_key_wif_format = \"cTWa7GGJGWrW9AUZBsyKFCUKeWyMzgKAyotZe5MdZ7QNYKmXz28u\"\n",
    "alice_private_key = PrivateKey.convert_wif_format(alice_private_key_wif_format)\n",
    "alice_private_key_int_format = alice_private_key.get_private_key_int()\n",
    "alice_public_key = alice_private_key.get_public_key()\n",
    "\n",
    "#bcr -rpcwallet=alice listunspent -> listet alle utxo's von alice auf\n",
    "#bcr -rpcwallet=alice gettransaction <tx_id> -> gibt das \"Überweisungsformular\" der Transaktion mit der angegebenen ID zurück.\n",
    "alice_previous_tx_id_to_spent = \"b320b5307f5abda19b69653f422487f8d71a72994bf48eda9972ea43808a791e\"\n",
    "alice_previous_tx_index_to_spent = 1\n",
    "alice_previous_script_pub_key_to_spent = \"76a914a6ae4ca0c59722aa47f662ace1d327af89cf3d5d88ac\"\n",
    "\n",
    "#Transaktionsoutputdaten\n",
    "alice_amount_to_spent = 10000"
   ]
  },
  {
   "cell_type": "markdown",
   "metadata": {},
   "source": [
    "**1.2** Nun kann Alice die Lockingtransaktion erzeugen. Um die Satoshis an Bob's öffentlichen Schlüssel zu senden, muss Alice im Output der Transaktion ein scriptPubKey der Form: OP_HASH160 <script_hash> + OP_EQUAL generieren."
   ]
  },
  {
   "cell_type": "code",
   "execution_count": null,
   "metadata": {},
   "outputs": [],
   "source": [
    "transaction_input = CTxIn(bytes.fromhex(alice_previous_tx_id_to_spent), alice_previous_tx_index_to_spent, script_sig=Script())\n",
    "\n",
    "alice_script_pubkey = p2sh_script(bob_and_charlie_skript_hash160)\n",
    "transaction_output = CTxOut(alice_amount_to_spent, alice_script_pubkey)\n",
    "\n",
    "alice_locking_transaction = CTx(1, [transaction_input], [transaction_output], 0xffffffff, is_testnet=True, is_segwit=False)\n",
    "\n",
    "print(f\"Alice unsignierte P2SH Lockingtransaktion: {alice_locking_transaction.serialize_transaction().hex()}\")"
   ]
  },
  {
   "cell_type": "markdown",
   "metadata": {},
   "source": [
    "**1.3** Nun muss Alice die Lockingtransaktion noch signieren. D.h. sie muss nachweisen, dass sie aus der vorhergehenden Transaktion berechtigt ist die 10000 Satoshis auszugeben."
   ]
  },
  {
   "cell_type": "code",
   "execution_count": null,
   "metadata": {},
   "outputs": [],
   "source": [
    "alice_script_sig = Script().parse_script(BytesIO(bytes.fromhex(f\"{hex(len(alice_previous_script_pub_key_to_spent)//2)[2:]}{alice_previous_script_pub_key_to_spent}\")))\n",
    "alice_locking_transaction.sign_transaction(0, [alice_private_key_int_format], alice_script_sig)\n",
    "\n",
    "#bcr -rpcwallet=alice testmempoolaccept '[\"tx\"]' -> prüft ob die Transaktion alle Checks für die Aufnhame in den Mempool besteht\n",
    "#bcr -rpcwallet=alice decoderawtransaction <tx> -> decodiert die serilaisierte Transaktion ins \"Überweisungsformular\"\n",
    "#bcr -rpcwallet=alice sendrawtransaction <tx> -> übermittelt schließlich die Transaktion im Netzwerk so dass sie von minern für einen block aus dem mempool aufgenommen werden kann\n",
    "\n",
    "print(f\"Alice signierte P2SH Lockingtransaktion: {alice_locking_transaction.serialize_transaction().hex()}\")"
   ]
  },
  {
   "cell_type": "markdown",
   "metadata": {},
   "source": [
    "**2.** Nun möchten Bob und Charlie die an den Hash ihres Scripts gebundenen Satoshis weiter versenden. Dazu müssen die beiden im Inputfeld (in dem auf den eben von Alice erzeugten Output referenziert wird), zum Beweis das sie berechtigt sind den Output auszugeben, ihre Signaturen sowie das von ihnen erzeugte Skript vorlegen. Die Reihenfolge in der die Signaturen vorliegen muss die selbe Reihenfolge sein in der die öffentlichen Schlüssel im Skript vorliegen. Damit Bob das notwendige Transaktionsformular ausfüllen kann benötigt er folgende Informationen."
   ]
  },
  {
   "cell_type": "code",
   "execution_count": null,
   "metadata": {},
   "outputs": [],
   "source": [
    "#bcr decoderawtransaction <raw_tx_hex>  parsed raw tx\n",
    "\n",
    "bob_previous_tx_id_to_spent = \"c8542e73ffed2d5a3811c1cde01227177b011adf5781f7124e3f7534f9a98518\"\n",
    "bob_previous_tx_index_to_spent = 0\n",
    "bob_previous_script_pub_key_to_spent = \"a9142aa944882aeab4b3860ad6ea9aa8d6c53b83009887\"\n",
    "\n",
    "#Transaktionsoutputdaten\n",
    "bob_amount_to_spent = 9000\n",
    "#bob's reciever address is alice public key"
   ]
  },
  {
   "cell_type": "markdown",
   "metadata": {},
   "source": [
    "**2.1** Nun kann Bob die Transaktion erstellen um die eben von Alice erhaltenen Satoshis weiter zu versenden."
   ]
  },
  {
   "cell_type": "code",
   "execution_count": null,
   "metadata": {},
   "outputs": [],
   "source": [
    "transaction_input = CTxIn(bytes.fromhex(bob_previous_tx_id_to_spent), bob_previous_tx_index_to_spent, script_sig=Script())\n",
    "\n",
    "script_pubkey = p2pk_script(alice_public_key.sec_format())\n",
    "transaction_output = CTxOut(bob_amount_to_spent, script_pubkey)\n",
    "\n",
    "bob_spending_transaction = CTx(1, [transaction_input], [transaction_output], 0xffffffff, is_testnet=True, is_segwit=False)\n",
    "\n",
    "print(f\"Bob unsignierte P2SH Spendingtransaktion: {bob_spending_transaction.serialize_transaction().hex()}\")"
   ]
  },
  {
   "cell_type": "markdown",
   "metadata": {},
   "source": [
    "**2.2** Nun können Bob und Charlie diese Transaktion mit ihren privaten Schlüsseln signieren und versenden."
   ]
  },
  {
   "cell_type": "code",
   "execution_count": null,
   "metadata": {},
   "outputs": [],
   "source": [
    "bob_script_sig = Script().parse_script(BytesIO(bytes.fromhex(f\"{hex(len(bob_previous_script_pub_key_to_spent)//2)[2:]}{bob_previous_script_pub_key_to_spent}\")))\n",
    "\n",
    "bob_spending_transaction.sign_transaction(0, [bob_private_key_int_format, charlie_private_key_int_format], bob_script_sig, 2, 2, bob_and_charlie_skript)\n",
    "\n",
    "#bcr -rpcwallet=bob testmempoolaccept '[\"tx\"]'\n",
    "#bcr -rpcwallet=bob decodetransaction <tx>\n",
    "#bcr -rpcwallet=bob sendrawtransaction <tx>\n",
    "\n",
    "print(f\"Bob signierte P2SH Spendingtransaktion: {bob_spending_transaction.serialize_transaction().hex()}\")"
   ]
  }
 ],
 "metadata": {
  "kernelspec": {
   "display_name": "Python 3",
   "language": "python",
   "name": "python3"
  },
  "language_info": {
   "codemirror_mode": {
    "name": "ipython",
    "version": 3
   },
   "file_extension": ".py",
   "mimetype": "text/x-python",
   "name": "python",
   "nbconvert_exporter": "python",
   "pygments_lexer": "ipython3",
   "version": "3.10.12"
  }
 },
 "nbformat": 4,
 "nbformat_minor": 2
}
