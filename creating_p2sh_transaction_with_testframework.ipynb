{
 "cells": [
  {
   "cell_type": "markdown",
   "metadata": {},
   "source": [
    "### Bob hat einen Freund Namens Charlie. Bob möchte das die Coins welche er von Alice geschickt bekommt NUR ausgegeben werden können wenn Bob und Charlie die Transaktion mit ihren jeweils eigenen privaten Schlüsseln signieren. Alice muss daher die Coins nicht an den öffentlichen Schlüssel von Bob schicken sondern an ein Skript welches die beiden öffentlichen Schlüssel von Bob und Charlie enthält. Diese Art der Transaktion haben wir bereits als **P2MS** oder **Bare Multisig** kennengelernt. P2MS hat jedoch zwei entscheidenden Nachteile.\n",
    "    1. Je mehr mögliche öffentliche Schlüssel für MultiSig genutzt werden desto länger wird der ScriptPubKey der Lockingtransaktion und damit wird auch die Transaktion selbst immer größere und teurer.\n",
    "    2. Die Kosten für die extrem große Lockingtransaktion muss der Sender bezahlen. Das ist aber ökonomisch unfair. Wieso soll der Sender den Preis dafür zahlen, dass der Empfänger einen aufwendigeren Mechanismus zur Ausgabe der Coins bekommt.\n",
    "Die Lösung beider Probleme besteht darin die Coins an den Hash eines Skripts zu schicken. Der Hash ist immer gleich lang. Daher ändert sich für den Sender nicht die Transaktionsgröße je mehr öffentliche SChlüssel dazu kommen. Das Skript und damit auch die größere Datenmenge wird erst beim Verwenden der Coins veröffentlicht und muss daher vom Eigentümer der MultiSig-Transaktion bezahlt werden.\n",
    "Diese Art der Transaktion wird als **P2SH** bezeichnet. "
   ]
  },
  {
   "cell_type": "markdown",
   "metadata": {},
   "source": [
    "### Aufgrund der Tatsache, dass wir mit einer \"leeren\" Blockchain beginnen, müssen zunächst ein paar Vorarbeiten geleistet werden.\n",
    "    1. Verbindung zur Blockchain in regtest Modus aufbauen\n",
    "    2. Anlegen dreier Nodes und Wallets (Alice, Bob und Charlie)\n",
    "    3. Mining 101 Blöcke damit Alice Wallet Coins enthält\n",
    "    4. Funding der Transaktion welche später als Input für die P2SH-Locking Transaktion genutzt wird.\n",
    "    5. Bob erzeugt seinen öffentlichen Schlüssel an den die Funds gebunden werden sollen\n",
    "    6. Charlie erzeugt seinen öffentlichen Schlüssel an den die Funds gebunden werden sollen"
   ]
  },
  {
   "cell_type": "code",
   "execution_count": 1,
   "metadata": {},
   "outputs": [],
   "source": [
    "import sys\n",
    "sys.path.insert(0, \"/media/henning/Volume/Programming/Bitcoin/bitcoin/test/functional\")\n",
    "from test_framework.test_shell import TestShell\n",
    "from io import BytesIO\n",
    "from decimal import Decimal\n",
    "\n",
    "from src.transaction import CTx, CTxIn, CTxOut\n",
    "from src.script import Script, p2ms_script, p2sh_script, p2pk_script\n",
    "from src.ecdsa import PrivateKey\n",
    "from src.crypto import hash160"
   ]
  },
  {
   "cell_type": "code",
   "execution_count": 2,
   "metadata": {},
   "outputs": [
    {
     "name": "stdout",
     "output_type": "stream",
     "text": [
      "2024-03-03T12:38:08.053000Z TestFramework (INFO): PRNG seed is: 217545309890477367\n",
      "2024-03-03T12:38:08.054000Z TestFramework (INFO): Initializing test directory /tmp/bitcoin_func_test_arwi44q4\n"
     ]
    }
   ],
   "source": [
    "test = TestShell().setup(num_nodes=3, setup_clean_chain=True)\n",
    "alice = test.nodes[0]\n",
    "bob = test.nodes[1]\n",
    "charlie = test.nodes[2]\n",
    "\n",
    "alice.createwallet(\"alice\", descriptors=False)\n",
    "bob.createwallet(\"bob\", descriptors=False)\n",
    "charlie.createwallet(\"charlie\", descriptors=False)\n",
    "\n",
    "alice_address_0 = alice.getnewaddress(\"\", \"legacy\")\n",
    "test.generatetoaddress(alice, 101, alice_address_0)\n",
    "\n",
    "alice_address_1 = alice.getnewaddress(\"\", \"legacy\")\n",
    "alice_p2sh_funding_tx = alice.sendtoaddress(alice_address_1, 0.00011)\n",
    "alice_p2sh_funding_tx_parsed = alice.decoderawtransaction(alice.gettransaction(alice_p2sh_funding_tx)[\"hex\"])\n",
    "test.generatetoaddress(alice, 1, alice_address_0)\n",
    "\n",
    "bob_address_1 = bob.getnewaddress(\"\", \"legacy\")\n",
    "bob_private_key_wif_format = bob.dumpprivkey(bob_address_1)\n",
    "bob_private_key = PrivateKey.convert_wif_format(bob_private_key_wif_format)\n",
    "bob_private_key_int_format = bob_private_key.get_private_key_int()\n",
    "bob_public_key = bob_private_key.get_public_key()\n",
    "\n",
    "charlie_address_1 = charlie.getnewaddress(\"\", \"legacy\")\n",
    "charlie_private_key_wif_format = charlie.dumpprivkey(charlie_address_1)\n",
    "charlie_private_key = PrivateKey.convert_wif_format(charlie_private_key_wif_format)\n",
    "charlie_private_key_int_format = charlie_private_key.get_private_key_int()\n",
    "charlie_public_key = charlie_private_key.get_public_key()"
   ]
  },
  {
   "cell_type": "markdown",
   "metadata": {},
   "source": [
    "**1.** Zunächst müssen Bob und Charlie das von ihnen gewünschte Script erzeugen."
   ]
  },
  {
   "cell_type": "code",
   "execution_count": 3,
   "metadata": {},
   "outputs": [],
   "source": [
    "bob_and_charlie_skript = p2ms_script([bob_public_key.sec_format(), charlie_public_key.sec_format()], 2, 2)\n",
    "bob_and_charlie_skript_hash160 = hash160(bytes.fromhex(bob_and_charlie_skript.serialize_script().hex()[2:]))"
   ]
  },
  {
   "cell_type": "markdown",
   "metadata": {},
   "source": [
    "**1.1** In der ersten Transaktion werden von Alice die 10000 Satoshis an das P2SH Script von Bob und Charlie versendet. Um das notwendige Transaktionsformular ausfüllen zu können, benötigt Alice folgende Informationen. "
   ]
  },
  {
   "cell_type": "code",
   "execution_count": 4,
   "metadata": {},
   "outputs": [],
   "source": [
    "alice_private_key_wif_format = alice.dumpprivkey(alice_address_1)\n",
    "alice_private_key = PrivateKey.convert_wif_format(alice_private_key_wif_format)\n",
    "alice_private_key_int_format = alice_private_key.get_private_key_int()\n",
    "alice_public_key = alice_private_key.get_public_key()\n",
    "\n",
    "alice_previous_tx_id_to_spent = alice_p2sh_funding_tx_parsed[\"txid\"]\n",
    "\n",
    "for tx_out in alice_p2sh_funding_tx_parsed[\"vout\"]:\n",
    "    if tx_out[\"value\"] == Decimal(\"0.00011000\"):\n",
    "        alice_previous_tx_index_to_spent = tx_out[\"n\"]\n",
    "        alice_previous_script_pub_key_to_spent = tx_out[\"scriptPubKey\"][\"hex\"]\n",
    "\n",
    "#Transaktionsoutputdaten\n",
    "alice_amount_to_spent = 10000"
   ]
  },
  {
   "cell_type": "markdown",
   "metadata": {},
   "source": [
    "**1.2** Nun kann Alice die Lockingtransaktion erzeugen. Um die Satoshis an Bob's öffentlichen Schlüssel zu senden, muss Alice im Output der Transaktion ein scriptPubKey der Form: <Bob's public Key> + OP_CHECKSIG generieren."
   ]
  },
  {
   "cell_type": "code",
   "execution_count": 5,
   "metadata": {},
   "outputs": [
    {
     "name": "stdout",
     "output_type": "stream",
     "text": [
      "Alice unsignierte P2SH Lockingtransaktion: 0100000001b3ababe6f4a42ae293c51d48010a015e1af8d8d79c17352cb9406b99e8b7f7bd0100000000ffffffff01102700000000000017a9144482290c08cb4f95a494619015593ca891796a0887ffffffff\n"
     ]
    }
   ],
   "source": [
    "transaction_input = CTxIn(bytes.fromhex(alice_previous_tx_id_to_spent), alice_previous_tx_index_to_spent, script_sig=Script())\n",
    "\n",
    "alice_script_pubkey = p2sh_script(bob_and_charlie_skript_hash160)\n",
    "transaction_output = CTxOut(alice_amount_to_spent, alice_script_pubkey)\n",
    "\n",
    "alice_locking_transaction = CTx(1, [transaction_input], [transaction_output], 0xffffffff, is_testnet=True, is_segwit=False)\n",
    "\n",
    "print(f\"Alice unsignierte P2SH Lockingtransaktion: {alice_locking_transaction.serialize_transaction().hex()}\")"
   ]
  },
  {
   "cell_type": "markdown",
   "metadata": {},
   "source": [
    "**1.3** Nun muss Alice die Lockingtransaktion noch signieren. D.h. sie muss nachweisen, dass sie aus der vorhergehenden Transaktion berechtigt ist die 10000 Satoshis auszugeben."
   ]
  },
  {
   "cell_type": "code",
   "execution_count": 6,
   "metadata": {},
   "outputs": [
    {
     "name": "stdout",
     "output_type": "stream",
     "text": [
      "Alice signierte P2SH Lockingtransaktion: 0100000001b3ababe6f4a42ae293c51d48010a015e1af8d8d79c17352cb9406b99e8b7f7bd010000006a4730440220303f39a08ef7bfa14a752d55e1c50b2523490855067230c7270d8410118015b90220231c197286797fc5560464a06d47ab25a8f35297fb33e0ed99495cf86478aa6a01210273505c7ba65e59ce9d17f3d79d72bfbd8f2c88ff208ff2496ba28d470f3ec379ffffffff01102700000000000017a9144482290c08cb4f95a494619015593ca891796a0887ffffffff\n"
     ]
    },
    {
     "data": {
      "text/plain": [
       "['44e23250a2d629980e5a7ce2ba6983ff6f40b13900390db8e527e4cb40c571bd']"
      ]
     },
     "execution_count": 6,
     "metadata": {},
     "output_type": "execute_result"
    }
   ],
   "source": [
    "alice_script_sig = Script().parse_script(BytesIO(bytes.fromhex(f\"{hex(len(alice_previous_script_pub_key_to_spent)//2)[2:]}{alice_previous_script_pub_key_to_spent}\")))\n",
    "alice_locking_transaction.sign_transaction(0, [alice_private_key_int_format], alice_script_sig)\n",
    "\n",
    "print(f\"Alice signierte P2SH Lockingtransaktion: {alice_locking_transaction.serialize_transaction().hex()}\")\n",
    "\n",
    "alice_p2sh_locking_tx = alice.sendrawtransaction(alice_locking_transaction.serialize_transaction().hex())\n",
    "test.generatetoaddress(alice, 1, alice_address_0)"
   ]
  },
  {
   "cell_type": "markdown",
   "metadata": {},
   "source": [
    "**2.** Nun möchten Bob und Charlie die an den Hash ihres Scripts gebundenen Satoshis weiter versenden. Dazu müssen die beiden im Inputfeld (in dem auf den eben von Alice erzeugten Output referenziert wird), zum Beweis das sie berechtigt sind den Output auszugeben, ihre Signaturen sowie das von ihnen erzeugte Skript vorlegen. Die Reihenfolge in der die Signaturen vorliegen muss die selbe Reihenfolge sein in der die öffentlichen Schlüssel im Skript vorliegen. Damit Bob das notwendige Transaktionsformular ausfüllen kann benötigt er folgende Informationen."
   ]
  },
  {
   "cell_type": "code",
   "execution_count": 7,
   "metadata": {},
   "outputs": [],
   "source": [
    "alice_p2ms_locking_tx_parsed = alice.decoderawtransaction(alice.gettransaction(alice_p2sh_locking_tx)[\"hex\"])\n",
    "\n",
    "bob_previous_tx_id_to_spent = alice_p2ms_locking_tx_parsed[\"txid\"]\n",
    "\n",
    "for tx_out in alice_p2ms_locking_tx_parsed[\"vout\"]:\n",
    "    if tx_out[\"value\"] == Decimal(\"0.00010000\"):\n",
    "        bob_previous_tx_index_to_spent = tx_out[\"n\"]\n",
    "        bob_previous_script_pub_key_to_spent = tx_out[\"scriptPubKey\"][\"hex\"]\n",
    "\n",
    "#Transaktionsoutputdaten\n",
    "bob_amount_to_spent = 9000\n",
    "#bob's reciever address is alice public key"
   ]
  },
  {
   "cell_type": "markdown",
   "metadata": {},
   "source": [
    "**2.1** Nun kann Bob die Transaktion erstellen um die eben von Alice erhaltenen Satoshis weiter zu versenden."
   ]
  },
  {
   "cell_type": "code",
   "execution_count": 8,
   "metadata": {},
   "outputs": [
    {
     "name": "stdout",
     "output_type": "stream",
     "text": [
      "Bob unsignierte P2SH Spendingtransaktion: 0100000001b32d17e77334f1138aead7f7f993b1858deca22ea8425a24b053c879d8cc9c3d0000000000ffffffff01282300000000000023210273505c7ba65e59ce9d17f3d79d72bfbd8f2c88ff208ff2496ba28d470f3ec379acffffffff\n"
     ]
    }
   ],
   "source": [
    "transaction_input = CTxIn(bytes.fromhex(bob_previous_tx_id_to_spent), bob_previous_tx_index_to_spent, script_sig=Script())\n",
    "\n",
    "script_pubkey = p2pk_script(alice_public_key.sec_format())\n",
    "transaction_output = CTxOut(bob_amount_to_spent, script_pubkey)\n",
    "\n",
    "bob_spending_transaction = CTx(1, [transaction_input], [transaction_output], 0xffffffff, is_testnet=True, is_segwit=False)\n",
    "\n",
    "print(f\"Bob unsignierte P2SH Spendingtransaktion: {bob_spending_transaction.serialize_transaction().hex()}\")"
   ]
  },
  {
   "cell_type": "markdown",
   "metadata": {},
   "source": [
    "**2.2** Nun können Bob und Charlie diese Transaktion mit ihren privaten Schlüssle signieren und versenden."
   ]
  },
  {
   "cell_type": "code",
   "execution_count": 9,
   "metadata": {},
   "outputs": [
    {
     "name": "stdout",
     "output_type": "stream",
     "text": [
      "Bob signierte P2MS Spendingtransaktion: 0100000001b32d17e77334f1138aead7f7f993b1858deca22ea8425a24b053c879d8cc9c3d00000000db00483045022100a59a0a2204e655c2204a5b50360db5395277fa3eebc38c19173d03f62ba29ec502204ab82f6aaa6677e30bbed8eb5abd77a65ceb9d1386ebabe8d77e9a51358b458c01483045022100f1deef165329e2b49a5698c426d25e59b3f01dc76664debcb0032d74fa1067770220082d12b5de9adcc4eba222dad3582e53d436069fca7a996336f5de061a0cffe701475221038df44fa32a045dd1adbe9630e89fb3016256ba94c57bf1977a5c02fee784dfd42103c242c6c392342b76684f09e88e5f84fc1e606103bf261117a79e8c2625788a4952aeffffffff01282300000000000023210273505c7ba65e59ce9d17f3d79d72bfbd8f2c88ff208ff2496ba28d470f3ec379acffffffff\n",
      "2024-03-03T12:38:10.413000Z TestFramework (INFO): Stopping nodes\n",
      "2024-03-03T12:38:10.567000Z TestFramework (INFO): Cleaning up /tmp/bitcoin_func_test_arwi44q4 on exit\n",
      "2024-03-03T12:38:10.567000Z TestFramework (INFO): Tests successful\n"
     ]
    }
   ],
   "source": [
    "bob_script_sig = Script().parse_script(BytesIO(bytes.fromhex(f\"{hex(len(bob_previous_script_pub_key_to_spent)//2)[2:]}{bob_previous_script_pub_key_to_spent}\")))\n",
    "\n",
    "bob_spending_transaction.sign_transaction(0, [bob_private_key_int_format, charlie_private_key_int_format], bob_script_sig, 2, 2, bob_and_charlie_skript)\n",
    "\n",
    "print(f\"Bob signierte P2SH Spendingtransaktion: {bob_spending_transaction.serialize_transaction().hex()}\")\n",
    "\n",
    "bob_p2ms_spending_tx = bob.sendrawtransaction(bob_spending_transaction.serialize_transaction().hex())\n",
    "\n",
    "TestShell().shutdown()"
   ]
  },
  {
   "cell_type": "code",
   "execution_count": null,
   "metadata": {},
   "outputs": [],
   "source": []
  }
 ],
 "metadata": {
  "kernelspec": {
   "display_name": "Python 3",
   "language": "python",
   "name": "python3"
  },
  "language_info": {
   "codemirror_mode": {
    "name": "ipython",
    "version": 3
   },
   "file_extension": ".py",
   "mimetype": "text/x-python",
   "name": "python",
   "nbconvert_exporter": "python",
   "pygments_lexer": "ipython3",
   "version": "3.10.12"
  }
 },
 "nbformat": 4,
 "nbformat_minor": 2
}
