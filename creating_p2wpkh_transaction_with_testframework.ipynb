{
 "cells": [
  {
   "cell_type": "code",
   "execution_count": 1,
   "metadata": {},
   "outputs": [],
   "source": [
    "import sys\n",
    "sys.path.insert(0, \"/media/henning/Volume/Programming/Bitcoin/bitcoin/test/functional\")\n",
    "from test_framework.test_shell import TestShell\n",
    "from io import BytesIO\n",
    "from decimal import Decimal\n",
    "\n",
    "from src.transaction import CTx, CTxIn, CTxOut\n",
    "from src.script import Script, p2wpkh_script, p2pkh_script\n",
    "from src.ecdsa import PrivateKey\n",
    "from src.crypto import hash160"
   ]
  },
  {
   "cell_type": "code",
   "execution_count": 2,
   "metadata": {},
   "outputs": [
    {
     "name": "stdout",
     "output_type": "stream",
     "text": [
      "2024-03-10T13:24:22.634000Z TestFramework (INFO): PRNG seed is: 7169386173763511158\n",
      "2024-03-10T13:24:22.635000Z TestFramework (INFO): Initializing test directory /tmp/bitcoin_func_test_clv6dzqu\n"
     ]
    }
   ],
   "source": [
    "test = TestShell().setup(num_nodes=2, setup_clean_chain=True)\n",
    "alice = test.nodes[0]\n",
    "bob = test.nodes[1]\n",
    "\n",
    "alice.createwallet(\"alice\", descriptors=False)\n",
    "bob.createwallet(\"bob\", descriptors=False)\n",
    "\n",
    "alice_address_0 = alice.getnewaddress(\"\", \"legacy\")\n",
    "test.generatetoaddress(alice, 101, alice_address_0)\n",
    "\n",
    "alice_address_1 = alice.getnewaddress(\"\", \"legacy\")\n",
    "alice_p2wpkh_funding_tx = alice.sendtoaddress(alice_address_1, 0.00011)\n",
    "alice_p2wpkh_funding_tx_parsed = alice.decoderawtransaction(alice.gettransaction(alice_p2wpkh_funding_tx)[\"hex\"])\n",
    "test.generatetoaddress(alice, 1, alice_address_0)\n",
    "\n",
    "bob_address_1 = test.nodes[1].getnewaddress(\"\")\n",
    "bob_private_key_wif_format = bob.dumpprivkey(bob_address_1)\n",
    "bob_private_key = PrivateKey.convert_wif_format(bob_private_key_wif_format)\n",
    "bob_private_key_int_format = bob_private_key.get_private_key_int()\n",
    "bob_public_key = bob_private_key.get_public_key()"
   ]
  },
  {
   "cell_type": "code",
   "execution_count": 3,
   "metadata": {},
   "outputs": [],
   "source": [
    "alice_private_key_wif_format = alice.dumpprivkey(alice_address_1)\n",
    "alice_private_key = PrivateKey.convert_wif_format(alice_private_key_wif_format)\n",
    "alice_private_key_int_format = alice_private_key.get_private_key_int()\n",
    "alice_public_key = alice_private_key.get_public_key()\n",
    "\n",
    "alice_previous_tx_id_to_spent = alice_p2wpkh_funding_tx_parsed[\"txid\"]\n",
    "\n",
    "for tx_out in alice_p2wpkh_funding_tx_parsed[\"vout\"]:\n",
    "    if tx_out[\"value\"] == Decimal(\"0.00011000\"):\n",
    "        alice_previous_tx_index_to_spent = tx_out[\"n\"]\n",
    "        alice_previous_script_pub_key_to_spent = tx_out[\"scriptPubKey\"][\"hex\"]\n",
    "\n",
    "#Transaktionsoutputdaten\n",
    "alice_amount_to_spent = 10000"
   ]
  },
  {
   "cell_type": "code",
   "execution_count": 4,
   "metadata": {},
   "outputs": [
    {
     "name": "stdout",
     "output_type": "stream",
     "text": [
      "Alice unsignierte P2WPK Lockingtransaktion: 0100000001c2e22ac65204ff35289a7c5b61aec939aa234adabfb656d8c71dcce9ceeea2680100000000ffffffff01102700000000000016001443ce34a7a2f626ef4a2f42dca420553f93600035ffffffff\n"
     ]
    }
   ],
   "source": [
    "transaction_input = CTxIn(bytes.fromhex(alice_previous_tx_id_to_spent), alice_previous_tx_index_to_spent, script_sig=Script())\n",
    "\n",
    "alice_script_pubkey = p2wpkh_script(hash160(bob_public_key.sec_format()))\n",
    "transaction_output = CTxOut(alice_amount_to_spent, alice_script_pubkey)\n",
    "\n",
    "alice_locking_transaction = CTx(1, [transaction_input], [transaction_output], 0xffffffff, is_testnet=True, is_segwit=False)\n",
    "\n",
    "print(f\"Alice unsignierte P2WPK Lockingtransaktion: {alice_locking_transaction.serialize_transaction().hex()}\")"
   ]
  },
  {
   "cell_type": "code",
   "execution_count": 5,
   "metadata": {},
   "outputs": [
    {
     "name": "stdout",
     "output_type": "stream",
     "text": [
      "Alice signierte P2WPKH Lockingtransaktion: 0100000001c2e22ac65204ff35289a7c5b61aec939aa234adabfb656d8c71dcce9ceeea268010000006a47304402207e1541ae1f9929c44e0d8f5859ad9f4e8897b203f8ec8ea8235de85748855e2f02206fa84bab0e0d75fb377cb7a5c9640a6db300fca77f6a83281a692b0fad992e7c012102bd150eb5f3b2cb7670b7655d755ee2a0b7671822af059730f59bbe62cfe1f970ffffffff01102700000000000016001443ce34a7a2f626ef4a2f42dca420553f93600035ffffffff\n",
      "b911e0ad1ef4886feb2cc4df6384762b77ef242a69f5a57cb3178036975c9b2e\n"
     ]
    }
   ],
   "source": [
    "alice_script_sig = Script().parse_script(BytesIO(bytes.fromhex(f\"{hex(len(alice_previous_script_pub_key_to_spent)//2)[2:]}{alice_previous_script_pub_key_to_spent}\")))\n",
    "alice_locking_transaction.sign_transaction(0, [alice_private_key_int_format], alice_script_sig)\n",
    "\n",
    "print(f\"Alice signierte P2WPKH Lockingtransaktion: {alice_locking_transaction.serialize_transaction().hex()}\")\n",
    "\n",
    "alice_p2wpkh_locking_tx = alice.sendrawtransaction(alice_locking_transaction.serialize_transaction().hex())\n",
    "test.generatetoaddress(alice, 1, alice_address_0)\n",
    "\n",
    "print(alice_p2wpkh_locking_tx)"
   ]
  },
  {
   "cell_type": "code",
   "execution_count": 6,
   "metadata": {},
   "outputs": [],
   "source": [
    "alice_p2wpk_locking_tx_parsed = alice.decoderawtransaction(alice.gettransaction(alice_p2wpkh_locking_tx)[\"hex\"])\n",
    "\n",
    "bob_previous_tx_id_to_spent = alice_p2wpk_locking_tx_parsed[\"txid\"]\n",
    "\n",
    "for tx_out in alice_p2wpk_locking_tx_parsed[\"vout\"]:\n",
    "    if tx_out[\"value\"] == Decimal(\"0.00010000\"):\n",
    "        bob_previous_tx_index_to_spent = tx_out[\"n\"]\n",
    "        bob_previous_script_pub_key_to_spent = tx_out[\"scriptPubKey\"][\"hex\"]\n",
    "\n",
    "#Transaktionsoutputdaten\n",
    "bob_amount_to_spent = 9000\n",
    "#bob's reciever address is alice public key"
   ]
  },
  {
   "cell_type": "code",
   "execution_count": 7,
   "metadata": {},
   "outputs": [
    {
     "name": "stdout",
     "output_type": "stream",
     "text": [
      "Bob unsignierte P2WPKH Spendingtransaktion: 010000000001012e9b5c97368017b37ca5f5692a24ef772b768463dfc42ceb6f88f41eade011b90000000000ffffffff0128230000000000001976a91464b8bfacca8fafd12c3ff8df5e3909be0230b03188ac00ffffffff\n"
     ]
    }
   ],
   "source": [
    "transaction_input = CTxIn(bytes.fromhex(bob_previous_tx_id_to_spent), bob_previous_tx_index_to_spent, script_sig=Script())\n",
    "\n",
    "script_pubkey = p2pkh_script(hash160(alice_public_key.sec_format()))\n",
    "transaction_output = CTxOut(bob_amount_to_spent, script_pubkey)\n",
    "\n",
    "bob_spending_transaction = CTx(1, [transaction_input], [transaction_output], 0xffffffff, is_testnet=True, is_segwit=True)\n",
    "\n",
    "print(f\"Bob unsignierte P2WPKH Spendingtransaktion: {bob_spending_transaction.serialize_transaction().hex()}\")"
   ]
  },
  {
   "cell_type": "code",
   "execution_count": 8,
   "metadata": {},
   "outputs": [
    {
     "name": "stdout",
     "output_type": "stream",
     "text": [
      "16001443ce34a7a2f626ef4a2f42dca420553f93600035\n",
      "Bob signierte P2PKH Spendingtransaktion: 010000000001012e9b5c97368017b37ca5f5692a24ef772b768463dfc42ceb6f88f41eade011b90000000000ffffffff0128230000000000001976a91464b8bfacca8fafd12c3ff8df5e3909be0230b03188ac02473044022004b270486fc58de37614ead2e818eab91d4e4beb043e912927fd0454acb1149802205b06c56e2c60f51c07c1ad7b8d05f7131ca4368b737ecbfa881cc13c46ac19d0012103056ed26138a7b846974fb212babd5fe8581ea71d1defb112a7f94b3275fe1d2cffffffff\n",
      "976ab1ffbb20775c89261391271046f30960fd821f0b6fe7bac224b984ae8a0d\n"
     ]
    }
   ],
   "source": [
    "bob_script_sig = Script().parse_script(BytesIO(bytes.fromhex(f\"{hex(len(bob_previous_script_pub_key_to_spent)//2)[2:]}{bob_previous_script_pub_key_to_spent}\")))\n",
    "print(bob_script_sig.serialize_script().hex())\n",
    "bob_spending_transaction.sign_transaction(0, [bob_private_key_int_format], bob_script_sig, input_amount=10000)\n",
    "\n",
    "print(f\"Bob signierte P2PKH Spendingtransaktion: {bob_spending_transaction.serialize_transaction().hex()}\")\n",
    "\n",
    "bob_p2pkh_spending_tx = bob.sendrawtransaction(bob_spending_transaction.serialize_transaction().hex())\n",
    "\n",
    "print(bob_p2pkh_spending_tx)"
   ]
  },
  {
   "cell_type": "code",
   "execution_count": 9,
   "metadata": {},
   "outputs": [
    {
     "name": "stdout",
     "output_type": "stream",
     "text": [
      "2024-03-10T13:24:23.610000Z TestFramework (INFO): Stopping nodes\n",
      "2024-03-10T13:24:23.662000Z TestFramework (INFO): Cleaning up /tmp/bitcoin_func_test_clv6dzqu on exit\n",
      "2024-03-10T13:24:23.663000Z TestFramework (INFO): Tests successful\n"
     ]
    }
   ],
   "source": [
    "TestShell().shutdown()"
   ]
  }
 ],
 "metadata": {
  "kernelspec": {
   "display_name": "Python 3",
   "language": "python",
   "name": "python3"
  },
  "language_info": {
   "codemirror_mode": {
    "name": "ipython",
    "version": 3
   },
   "file_extension": ".py",
   "mimetype": "text/x-python",
   "name": "python",
   "nbconvert_exporter": "python",
   "pygments_lexer": "ipython3",
   "version": "3.10.12"
  }
 },
 "nbformat": 4,
 "nbformat_minor": 2
}
