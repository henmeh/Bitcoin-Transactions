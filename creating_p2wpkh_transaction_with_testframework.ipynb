{
 "cells": [
  {
   "cell_type": "code",
   "execution_count": null,
   "metadata": {},
   "outputs": [],
   "source": [
    "import sys\n",
    "sys.path.insert(0, \"/media/henning/Volume/Programming/Bitcoin/bitcoin/test/functional\")\n",
    "from test_framework.test_shell import TestShell\n",
    "from io import BytesIO\n",
    "from decimal import Decimal\n",
    "\n",
    "from src.transaction import CTx, CTxIn, CTxOut\n",
    "from src.script import Script, p2wpkh_script, p2pkh_script\n",
    "from src.ecdsa import PrivateKey\n",
    "from src.crypto import hash160"
   ]
  },
  {
   "cell_type": "code",
   "execution_count": null,
   "metadata": {},
   "outputs": [],
   "source": [
    "test = TestShell().setup(num_nodes=2, setup_clean_chain=True)\n",
    "alice = test.nodes[0]\n",
    "bob = test.nodes[1]\n",
    "\n",
    "alice.createwallet(\"alice\", descriptors=False)\n",
    "bob.createwallet(\"bob\", descriptors=False)\n",
    "\n",
    "alice_address_0 = alice.getnewaddress(\"\", \"legacy\")\n",
    "test.generatetoaddress(alice, 101, alice_address_0)\n",
    "\n",
    "alice_address_1 = alice.getnewaddress(\"\", \"legacy\")\n",
    "alice_p2wpkh_funding_tx = alice.sendtoaddress(alice_address_1, 0.00011)\n",
    "alice_p2wpkh_funding_tx_parsed = alice.decoderawtransaction(alice.gettransaction(alice_p2wpkh_funding_tx)[\"hex\"])\n",
    "test.generatetoaddress(alice, 1, alice_address_0)\n",
    "\n",
    "bob_address_1 = test.nodes[1].getnewaddress(\"\")\n",
    "bob_private_key_wif_format = bob.dumpprivkey(bob_address_1)\n",
    "bob_private_key = PrivateKey.convert_wif_format(bob_private_key_wif_format)\n",
    "bob_private_key_int_format = bob_private_key.get_private_key_int()\n",
    "bob_public_key = bob_private_key.get_public_key()"
   ]
  },
  {
   "cell_type": "code",
   "execution_count": null,
   "metadata": {},
   "outputs": [],
   "source": [
    "alice_private_key_wif_format = alice.dumpprivkey(alice_address_1)\n",
    "alice_private_key = PrivateKey.convert_wif_format(alice_private_key_wif_format)\n",
    "alice_private_key_int_format = alice_private_key.get_private_key_int()\n",
    "alice_public_key = alice_private_key.get_public_key()\n",
    "\n",
    "alice_previous_tx_id_to_spent = alice_p2wpkh_funding_tx_parsed[\"txid\"]\n",
    "\n",
    "for tx_out in alice_p2wpkh_funding_tx_parsed[\"vout\"]:\n",
    "    if tx_out[\"value\"] == Decimal(\"0.00011000\"):\n",
    "        alice_previous_tx_index_to_spent = tx_out[\"n\"]\n",
    "        alice_previous_script_pub_key_to_spent = tx_out[\"scriptPubKey\"][\"hex\"]\n",
    "\n",
    "#Transaktionsoutputdaten\n",
    "alice_amount_to_spent = 10000"
   ]
  },
  {
   "cell_type": "code",
   "execution_count": null,
   "metadata": {},
   "outputs": [],
   "source": [
    "transaction_input = CTxIn(bytes.fromhex(alice_previous_tx_id_to_spent), alice_previous_tx_index_to_spent, script_sig=Script())\n",
    "\n",
    "alice_script_pubkey = p2wpkh_script(hash160(bob_public_key.sec_format()))\n",
    "transaction_output = CTxOut(alice_amount_to_spent, alice_script_pubkey)\n",
    "\n",
    "alice_locking_transaction = CTx(1, [transaction_input], [transaction_output], 0xffffffff, is_testnet=True, is_segwit=False)\n",
    "\n",
    "print(f\"Alice unsignierte P2WPK Lockingtransaktion: {alice_locking_transaction.serialize_transaction().hex()}\")"
   ]
  },
  {
   "cell_type": "code",
   "execution_count": null,
   "metadata": {},
   "outputs": [],
   "source": [
    "alice_script_sig = Script().parse_script(BytesIO(bytes.fromhex(f\"{hex(len(alice_previous_script_pub_key_to_spent)//2)[2:]}{alice_previous_script_pub_key_to_spent}\")))\n",
    "alice_locking_transaction.sign_transaction(0, [alice_private_key_int_format], alice_script_sig)\n",
    "\n",
    "print(f\"Alice signierte P2WPKH Lockingtransaktion: {alice_locking_transaction.serialize_transaction().hex()}\")\n",
    "\n",
    "alice_p2wpkh_locking_tx = alice.sendrawtransaction(alice_locking_transaction.serialize_transaction().hex())\n",
    "test.generatetoaddress(alice, 1, alice_address_0)\n",
    "\n",
    "print(alice_p2wpkh_locking_tx)"
   ]
  },
  {
   "cell_type": "code",
   "execution_count": null,
   "metadata": {},
   "outputs": [],
   "source": [
    "alice_p2wpk_locking_tx_parsed = alice.decoderawtransaction(alice.gettransaction(alice_p2wpkh_locking_tx)[\"hex\"])\n",
    "\n",
    "bob_previous_tx_id_to_spent = alice_p2wpk_locking_tx_parsed[\"txid\"]\n",
    "\n",
    "for tx_out in alice_p2wpk_locking_tx_parsed[\"vout\"]:\n",
    "    if tx_out[\"value\"] == Decimal(\"0.00010000\"):\n",
    "        bob_previous_tx_index_to_spent = tx_out[\"n\"]\n",
    "        bob_previous_script_pub_key_to_spent = tx_out[\"scriptPubKey\"][\"hex\"]\n",
    "\n",
    "#Transaktionsoutputdaten\n",
    "bob_amount_to_spent = 9000\n",
    "#bob's reciever address is alice public key"
   ]
  },
  {
   "cell_type": "code",
   "execution_count": null,
   "metadata": {},
   "outputs": [],
   "source": [
    "transaction_input = CTxIn(bytes.fromhex(bob_previous_tx_id_to_spent), bob_previous_tx_index_to_spent, script_sig=Script())\n",
    "\n",
    "script_pubkey = p2pkh_script(hash160(alice_public_key.sec_format()))\n",
    "transaction_output = CTxOut(bob_amount_to_spent, script_pubkey)\n",
    "\n",
    "bob_spending_transaction = CTx(1, [transaction_input], [transaction_output], 0xffffffff, is_testnet=True, is_segwit=True)\n",
    "\n",
    "print(f\"Bob unsignierte P2WPKH Spendingtransaktion: {bob_spending_transaction.serialize_transaction().hex()}\")"
   ]
  },
  {
   "cell_type": "code",
   "execution_count": null,
   "metadata": {},
   "outputs": [],
   "source": [
    "bob_script_sig = Script().parse_script(BytesIO(bytes.fromhex(f\"{hex(len(bob_previous_script_pub_key_to_spent)//2)[2:]}{bob_previous_script_pub_key_to_spent}\")))\n",
    "print(bob_script_sig.serialize_script().hex())\n",
    "bob_spending_transaction.sign_transaction(0, [bob_private_key_int_format], bob_script_sig, input_amount=10000)\n",
    "\n",
    "print(f\"Bob signierte P2PKH Spendingtransaktion: {bob_spending_transaction.serialize_transaction().hex()}\")\n",
    "\n",
    "bob_p2pkh_spending_tx = bob.sendrawtransaction(bob_spending_transaction.serialize_transaction().hex())\n",
    "\n",
    "print(bob_p2pkh_spending_tx)"
   ]
  },
  {
   "cell_type": "code",
   "execution_count": null,
   "metadata": {},
   "outputs": [],
   "source": [
    "TestShell().shutdown()"
   ]
  }
 ],
 "metadata": {
  "kernelspec": {
   "display_name": "Python 3",
   "language": "python",
   "name": "python3"
  },
  "language_info": {
   "codemirror_mode": {
    "name": "ipython",
    "version": 3
   },
   "file_extension": ".py",
   "mimetype": "text/x-python",
   "name": "python",
   "nbconvert_exporter": "python",
   "pygments_lexer": "ipython3",
   "version": "3.10.12"
  }
 },
 "nbformat": 4,
 "nbformat_minor": 2
}
