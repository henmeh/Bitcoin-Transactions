{
 "cells": [
  {
   "cell_type": "markdown",
   "metadata": {},
   "source": [
    "### Bob möchte nun die Satoshis mittels Segwit-Transaktion an ein spezielles von ihm erstelltes Skript binden. \n",
    "Das Skript ist der Satz: **\"We make it visible\"**. Auch dazu eignet sich die **P2WSH** Transaktion."
   ]
  },
  {
   "cell_type": "markdown",
   "metadata": {},
   "source": [
    "### Aufgrund der Tatsache, dass wir mit einer \"leeren\" Blockchain beginnen, müssen zunächst ein paar Vorarbeiten geleistet werden.\n",
    "    1. Verbindung zur Blockchain in regtest Modus aufbauen\n",
    "    2. Anlegen zweier Nodes und Wallets (Alice und Bob)\n",
    "    3. Mining 101 Blöcke damit Alice Wallet Coins enthält\n",
    "    4. Funding der Transaktion welche später als Input für die P2SH-Locking Transaktion genutzt wird.\n",
    "    5. Bob erzeugt das von ihm gewüsnchte Locking Skript"
   ]
  },
  {
   "cell_type": "code",
   "execution_count": 9,
   "metadata": {},
   "outputs": [],
   "source": [
    "import sys\n",
    "sys.path.insert(0, \"/media/henning/Volume/Programming/Bitcoin/bitcoin/test/functional\")\n",
    "from test_framework.test_shell import TestShell\n",
    "from io import BytesIO\n",
    "from decimal import Decimal\n",
    "\n",
    "from src.transaction import CTx, CTxIn, CTxOut\n",
    "from src.script import Script, p2wsh_script, p2pk_script\n",
    "from src.ecdsa import PrivateKey\n",
    "from src.crypto import sha256\n",
    "from src.helper import string_to_hex"
   ]
  },
  {
   "cell_type": "code",
   "execution_count": 10,
   "metadata": {},
   "outputs": [
    {
     "name": "stdout",
     "output_type": "stream",
     "text": [
      "2024-03-10T16:39:26.312000Z TestFramework (INFO): PRNG seed is: 6908410086429393061\n",
      "2024-03-10T16:39:26.313000Z TestFramework (INFO): Initializing test directory /tmp/bitcoin_func_test_4vj6m9t2\n"
     ]
    },
    {
     "data": {
      "text/plain": [
       "['7f72f77cb712102bbfc5f5eb7bfb99f3a551f0a5cc886b6580983b7f99f2ae0f']"
      ]
     },
     "execution_count": 10,
     "metadata": {},
     "output_type": "execute_result"
    }
   ],
   "source": [
    "test = TestShell().setup(num_nodes=2, setup_clean_chain=True)\n",
    "alice = test.nodes[0]\n",
    "bob = test.nodes[1]\n",
    "\n",
    "alice.createwallet(\"alice\", descriptors=False)\n",
    "bob.createwallet(\"bob\", descriptors=False)\n",
    "\n",
    "alice_address_0 = alice.getnewaddress(\"\", \"legacy\")\n",
    "test.generatetoaddress(alice, 101, alice_address_0)\n",
    "\n",
    "alice_address_1 = alice.getnewaddress(\"\", \"legacy\")\n",
    "alice_private_key_wif_format = alice.dumpprivkey(alice_address_1)\n",
    "alice_private_key = PrivateKey.convert_wif_format(alice_private_key_wif_format)\n",
    "alice_private_key_int_format = alice_private_key.get_private_key_int()\n",
    "alice_public_key = alice_private_key.get_public_key()\n",
    "\n",
    "alice_p2wsh_funding_tx = alice.sendtoaddress(alice_address_1, 0.00011)\n",
    "alice_p2wsh_funding_tx_parsed = alice.decoderawtransaction(alice.gettransaction(alice_p2wsh_funding_tx)[\"hex\"])\n",
    "test.generatetoaddress(alice, 1, alice_address_0)"
   ]
  },
  {
   "cell_type": "markdown",
   "metadata": {},
   "source": [
    "**1.** Zunächst muss Bob das von ihnen gewünschte Script erzeugen."
   ]
  },
  {
   "cell_type": "code",
   "execution_count": 11,
   "metadata": {},
   "outputs": [],
   "source": [
    "bob_secret = \"We make it visible\"\n",
    "bob_secret_hex = string_to_hex(bob_secret)\n",
    "bob_original_script = Script([bytes.fromhex(bob_secret_hex), 0x87])\n",
    "bob_original_script_hex = bob_original_script.serialize_script().hex()[2:]  \n",
    "bob_original_script_sha256 = sha256(bytes.fromhex(bob_original_script_hex))"
   ]
  },
  {
   "cell_type": "markdown",
   "metadata": {},
   "source": [
    "**1.1** In der ersten Transaktion werden von Alice die 10000 Satoshis an das P2WSH Script von Bob versendet. Um das notwendige Transaktionsformular ausfüllen zu können, benötigt Alice folgende Informationen."
   ]
  },
  {
   "cell_type": "code",
   "execution_count": 12,
   "metadata": {},
   "outputs": [],
   "source": [
    "alice_previous_tx_id_to_spent = alice_p2wsh_funding_tx_parsed[\"txid\"]\n",
    "\n",
    "for tx_out in alice_p2wsh_funding_tx_parsed[\"vout\"]:\n",
    "    if tx_out[\"value\"] == Decimal(\"0.00011000\"):\n",
    "        alice_previous_tx_index_to_spent = tx_out[\"n\"]\n",
    "        alice_previous_script_pub_key_to_spent = tx_out[\"scriptPubKey\"][\"hex\"]\n",
    "\n",
    "#Transaktionsoutputdaten\n",
    "alice_amount_to_spent = 10000"
   ]
  },
  {
   "cell_type": "markdown",
   "metadata": {},
   "source": [
    "**1.2** Nun kann Alice die Lockingtransaktion erzeugen. Um die Satoshis an Bob's Skript zu senden, muss Alice im Output der Transaktion ein scriptPubKey der Form: OP_00 <script_hash>."
   ]
  },
  {
   "cell_type": "code",
   "execution_count": 13,
   "metadata": {},
   "outputs": [
    {
     "name": "stdout",
     "output_type": "stream",
     "text": [
      "Alice unsignierte P2WSH Lockingtransaktion: 0100000001ae8c7047cff55469574f4e39f9691ac5c2c70d1d80d5166ad028b0269422f9330100000000ffffffff01102700000000000022002009b415a9b6f470f1460585bcccc0db3e9a2418aa93ed0420a42822ac7a12e383ffffffff\n"
     ]
    }
   ],
   "source": [
    "transaction_input = CTxIn(bytes.fromhex(alice_previous_tx_id_to_spent), alice_previous_tx_index_to_spent, script_sig=Script())\n",
    "\n",
    "alice_script_pubkey = p2wsh_script(bob_original_script_sha256)\n",
    "transaction_output = CTxOut(alice_amount_to_spent, alice_script_pubkey)\n",
    "\n",
    "alice_locking_transaction = CTx(1, [transaction_input], [transaction_output], 0xffffffff, is_testnet=True, is_segwit=False)\n",
    "\n",
    "print(f\"Alice unsignierte P2WSH Lockingtransaktion: {alice_locking_transaction.serialize_transaction().hex()}\")"
   ]
  },
  {
   "cell_type": "markdown",
   "metadata": {},
   "source": [
    "**1.3** Nun muss Alice die Lockingtransaktion noch signieren. D.h. sie muss nachweisen, dass sie aus der vorhergehenden Transaktion berechtigt ist die 10000 Satoshis auszugeben."
   ]
  },
  {
   "cell_type": "code",
   "execution_count": 14,
   "metadata": {},
   "outputs": [
    {
     "name": "stdout",
     "output_type": "stream",
     "text": [
      "Alice signierte P2WSH Lockingtransaktion: 0100000001ae8c7047cff55469574f4e39f9691ac5c2c70d1d80d5166ad028b0269422f933010000006a47304402200f7afbc9e3bb346b6c2ddf8eba994ad50f9bbae515437f5ee61ed53b8784da9b02201661c0541cfa8426c1704acf9a3a1f170366bfd4dc45dfac1a026cbb4308f50b0121038f84e4eae1f7cac047e3ac51d03b8a346856c0576f6f9cadc778204f979f7b9fffffffff01102700000000000022002009b415a9b6f470f1460585bcccc0db3e9a2418aa93ed0420a42822ac7a12e383ffffffff\n"
     ]
    },
    {
     "data": {
      "text/plain": [
       "['0c8a77233e0fc561d6805e9fc9c859519b22644b9e8bffaa6dc44f9ae2e338a4']"
      ]
     },
     "execution_count": 14,
     "metadata": {},
     "output_type": "execute_result"
    }
   ],
   "source": [
    "alice_script_sig = Script().parse_script(BytesIO(bytes.fromhex(f\"{hex(len(alice_previous_script_pub_key_to_spent)//2)[2:]}{alice_previous_script_pub_key_to_spent}\")))\n",
    "alice_locking_transaction.sign_transaction(0, [alice_private_key_int_format], alice_script_sig)\n",
    "\n",
    "print(f\"Alice signierte P2WSH Lockingtransaktion: {alice_locking_transaction.serialize_transaction().hex()}\")\n",
    "\n",
    "alice_p2wsh_locking_tx = alice.sendrawtransaction(alice_locking_transaction.serialize_transaction().hex())\n",
    "test.generatetoaddress(alice, 1, alice_address_0)"
   ]
  },
  {
   "cell_type": "markdown",
   "metadata": {},
   "source": [
    "**2.** Nun möchte Bob die an sein Skript gebundenen Satoshis wieder ausgeben. In dem Fall muss er **keine** Signatur oder der gleichen erzeugen. Zum Beweis das er berechtigt ist die Funds auszugeben muss er im Witnessfeld der Transaktion sein Secret und das Originalskript vorlegen."
   ]
  },
  {
   "cell_type": "code",
   "execution_count": 15,
   "metadata": {},
   "outputs": [],
   "source": [
    "alice_p2sh_locking_tx_parsed = alice.decoderawtransaction(alice.gettransaction(alice_p2wsh_locking_tx)[\"hex\"])\n",
    "\n",
    "bob_previous_tx_id_to_spent = alice_p2sh_locking_tx_parsed[\"txid\"]\n",
    "\n",
    "for tx_out in alice_p2sh_locking_tx_parsed[\"vout\"]:\n",
    "    if tx_out[\"value\"] == Decimal(\"0.00010000\"):\n",
    "        bob_previous_tx_index_to_spent = tx_out[\"n\"]\n",
    "        bob_previous_script_pub_key_to_spent = tx_out[\"scriptPubKey\"][\"hex\"]\n",
    "\n",
    "#Transaktionsoutputdaten\n",
    "bob_amount_to_spent = 9000\n",
    "#bob's reciever address is alice public key"
   ]
  },
  {
   "cell_type": "markdown",
   "metadata": {},
   "source": [
    "**2.1** Nun kann Bob die Transaktion erstellen um die eben von Alice erhaltenen Satoshis weiter zu versenden."
   ]
  },
  {
   "cell_type": "code",
   "execution_count": 16,
   "metadata": {},
   "outputs": [
    {
     "name": "stdout",
     "output_type": "stream",
     "text": [
      "Bob 'signierte' P2WSH Spendingtransaktion: 010000000001011534d622c1381269ad49b64c91278888a68345180ed2496e817061f2d269d4df0000000000ffffffff0128230000000000002321038f84e4eae1f7cac047e3ac51d03b8a346856c0576f6f9cadc778204f979f7b9fac02125765206d616b652069742076697369626c6514125765206d616b652069742076697369626c6587ffffffff\n",
      "2024-03-10T16:39:28.134000Z TestFramework (INFO): Stopping nodes\n",
      "2024-03-10T16:39:28.237000Z TestFramework (INFO): Cleaning up /tmp/bitcoin_func_test_4vj6m9t2 on exit\n",
      "2024-03-10T16:39:28.238000Z TestFramework (INFO): Tests successful\n"
     ]
    }
   ],
   "source": [
    "script_sig = Script([bytes.fromhex(bob_secret_hex), bytes.fromhex(bob_original_script_hex)])\n",
    "transaction_input = CTxIn(bytes.fromhex(bob_previous_tx_id_to_spent), bob_previous_tx_index_to_spent, script_sig=Script([]), witness=script_sig.commands)\n",
    "\n",
    "script_pubkey = p2pk_script(alice_public_key.sec_format())\n",
    "transaction_output = CTxOut(bob_amount_to_spent, script_pubkey)\n",
    "\n",
    "bob_spending_transaction = CTx(1, [transaction_input], [transaction_output], 0xffffffff, is_testnet=True, is_segwit=True)\n",
    "\n",
    "print(f\"Bob 'signierte' P2WSH Spendingtransaktion: {bob_spending_transaction.serialize_transaction().hex()}\")\n",
    "\n",
    "TestShell().shutdown()"
   ]
  }
 ],
 "metadata": {
  "kernelspec": {
   "display_name": "Python 3",
   "language": "python",
   "name": "python3"
  },
  "language_info": {
   "codemirror_mode": {
    "name": "ipython",
    "version": 3
   },
   "file_extension": ".py",
   "mimetype": "text/x-python",
   "name": "python",
   "nbconvert_exporter": "python",
   "pygments_lexer": "ipython3",
   "version": "3.10.12"
  }
 },
 "nbformat": 4,
 "nbformat_minor": 2
}
