{
 "cells": [
  {
   "cell_type": "markdown",
   "metadata": {},
   "source": [
    "### Reason why we can only work with the x coordinate for public key (sec compressed format)\n",
    "1. A Public Key is only a Point on the elliptic curve. The point has a x- and y coordinate.\n",
    "\n",
    "2. If we know the x coordinate we can always calculate the y coordinate. **But** because of the equation y²=x³+a*x+b there are to solutions for one x P1(x,y) and P2(x-y). So y can be negative or positiv. **This is true for elliptic curves in *R* space.**\n",
    "\n",
    "3. In cryptographie the x- and y coordinates are Elements of the modulo class p. Our equation is: y²=x³+a*x+b mod p. So what is -y now? -y%p is in the same reminder class as (p-y)%p. Now we have our two possible solutions P1(x,y) and P2(x,p-y). And y and p-y are even/odd or odd/even. [And this information we store in extra byte in front of the x-coordinate.](./src/ecdsa.py#L90)\n"
   ]
  },
  {
   "cell_type": "markdown",
   "metadata": {},
   "source": []
  }
 ],
 "metadata": {
  "kernelspec": {
   "display_name": "Python 3",
   "language": "python",
   "name": "python3"
  },
  "language_info": {
   "codemirror_mode": {
    "name": "ipython",
    "version": 3
   },
   "file_extension": ".py",
   "mimetype": "text/x-python",
   "name": "python",
   "nbconvert_exporter": "python",
   "pygments_lexer": "ipython3",
   "version": "3.10.12"
  }
 },
 "nbformat": 4,
 "nbformat_minor": 2
}
