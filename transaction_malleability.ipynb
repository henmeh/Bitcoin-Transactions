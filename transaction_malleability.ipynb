{
 "cells": [
  {
   "cell_type": "markdown",
   "metadata": {},
   "source": [
    "### Um zu verstehen was genau unter Transactio Malleabiltiy zu verstehen ist und warum diese zum Problem werden kann, beginnen wir ganz allgemein mit der Erzeugung und Verifizierung einer Signatur für den Satz \"We make it visible\""
   ]
  },
  {
   "cell_type": "code",
   "execution_count": 17,
   "metadata": {},
   "outputs": [],
   "source": [
    "from src.ecdsa import Secp256k1, PrivateKey, Signature\n",
    "from src.helper import string_to_hex"
   ]
  },
  {
   "cell_type": "code",
   "execution_count": 12,
   "metadata": {},
   "outputs": [],
   "source": [
    "data_to_sign = \"We make it visible\"\n",
    "data_to_sign_int = int(string_to_hex(data_to_sign), 16)"
   ]
  },
  {
   "cell_type": "markdown",
   "metadata": {},
   "source": [
    "Diese Daten sollen nun mit einem privaten Schlüssel signiert werden."
   ]
  },
  {
   "cell_type": "code",
   "execution_count": 13,
   "metadata": {},
   "outputs": [
    {
     "name": "stdout",
     "output_type": "stream",
     "text": [
      "Signature r: 75150207879433203983729114907744641754296517297143523311826799251626567762064  s: 10765857919082123265090427963477207408877181463278669850697559396871682654900\n"
     ]
    }
   ],
   "source": [
    "private_key = PrivateKey(1234)\n",
    "signature = Secp256k1().sign_data(private_key.get_private_key_int(), data_to_sign_int)\n",
    "\n",
    "print(f\"Signature r: {signature.r}  s: {signature.s}\")"
   ]
  },
  {
   "cell_type": "markdown",
   "metadata": {},
   "source": [
    "Nun soll die Signatur verifiziert werden. Wir erwarten True als Ausgabewert"
   ]
  },
  {
   "cell_type": "code",
   "execution_count": 15,
   "metadata": {},
   "outputs": [
    {
     "name": "stdout",
     "output_type": "stream",
     "text": [
      "Ergebniss der Verifikation: True\n"
     ]
    }
   ],
   "source": [
    "public_key = private_key.get_public_key()\n",
    "verification = Secp256k1().verify_signature(public_key, signature, data_to_sign_int)\n",
    "\n",
    "print(f\"Ergebniss der Verifikation: {verification}\")"
   ]
  },
  {
   "cell_type": "markdown",
   "metadata": {},
   "source": [
    "Nun stellt sich die Frage: Kann die Signatur geändert werden, so dass sie immernoch gültig ist? **Ohne** eine neue Signatur zu erstellen?"
   ]
  },
  {
   "cell_type": "code",
   "execution_count": 20,
   "metadata": {},
   "outputs": [
    {
     "name": "stdout",
     "output_type": "stream",
     "text": [
      "Ergebniss der Verifikation: True\n"
     ]
    }
   ],
   "source": [
    "signature_changed = Signature(75150207879433203983729114907744641754296517297143523311826799251626567762064, -10765857919082123265090427963477207408877181463278669850697559396871682654900)\n",
    "verification = Secp256k1().verify_signature(public_key, signature_changed, data_to_sign_int)\n",
    "\n",
    "print(f\"Ergebniss der Verifikation: {verification}\")"
   ]
  },
  {
   "cell_type": "code",
   "execution_count": 24,
   "metadata": {},
   "outputs": [
    {
     "name": "stdout",
     "output_type": "stream",
     "text": [
      "Ergebniss der Verifikation: True\n"
     ]
    }
   ],
   "source": [
    "signature_changed = Signature(int(\"075150207879433203983729114907744641754296517297143523311826799251626567762064\"), int(\"010765857919082123265090427963477207408877181463278669850697559396871682654900\"))\n",
    "verification = Secp256k1().verify_signature(public_key, signature_changed, data_to_sign_int)\n",
    "\n",
    "print(f\"Ergebniss der Verifikation: {verification}\")"
   ]
  },
  {
   "cell_type": "code",
   "execution_count": null,
   "metadata": {},
   "outputs": [],
   "source": []
  }
 ],
 "metadata": {
  "kernelspec": {
   "display_name": "Python 3",
   "language": "python",
   "name": "python3"
  },
  "language_info": {
   "codemirror_mode": {
    "name": "ipython",
    "version": 3
   },
   "file_extension": ".py",
   "mimetype": "text/x-python",
   "name": "python",
   "nbconvert_exporter": "python",
   "pygments_lexer": "ipython3",
   "version": "3.10.12"
  }
 },
 "nbformat": 4,
 "nbformat_minor": 2
}
